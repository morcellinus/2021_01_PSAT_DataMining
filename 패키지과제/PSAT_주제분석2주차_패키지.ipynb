{
 "cells": [
  {
   "cell_type": "code",
   "execution_count": 1,
   "metadata": {},
   "outputs": [],
   "source": [
    "import pandas as pd\n",
    "import numpy as np"
   ]
  },
  {
   "cell_type": "code",
   "execution_count": 2,
   "metadata": {},
   "outputs": [],
   "source": [
    "test = pd.read_csv(r'C:\\Users\\samsung\\Desktop\\PSAT\\주제분석 2주차 패키지\\test.csv')\n",
    "train = pd.read_csv(r'C:\\Users\\samsung\\Desktop\\PSAT\\주제분석 2주차 패키지\\train.csv')"
   ]
  },
  {
   "cell_type": "code",
   "execution_count": 3,
   "metadata": {},
   "outputs": [],
   "source": [
    "#1.2 단위 수정\n",
    "\n",
    "train_y = train.price\n",
    "train_x = train.drop('price', axis = 1)"
   ]
  },
  {
   "cell_type": "code",
   "execution_count": 4,
   "metadata": {},
   "outputs": [],
   "source": [
    "#1.3 validatino set 분할 - 첫번째\n",
    "\n",
    "from sklearn.model_selection import train_test_split\n",
    "\n",
    "X_train1, X_valid1, Y_train1, Y_valid1 = train_test_split(train_x, train_y, test_size=0.2)"
   ]
  },
  {
   "cell_type": "code",
   "execution_count": 5,
   "metadata": {},
   "outputs": [
    {
     "data": {
      "text/plain": [
       "'데이터에 시계열 자료가 존재하기 때문에 random하게 data를 split하면 안되고 순서대로 앞에서 잘라줘야 합니다.'"
      ]
     },
     "execution_count": 5,
     "metadata": {},
     "output_type": "execute_result"
    }
   ],
   "source": [
    "#1.4 질문\n",
    "'''데이터에 시계열 자료가 존재하기 때문에 random하게 data를 split하면 안되고 순서대로 앞에서 잘라줘야 합니다.'''"
   ]
  },
  {
   "cell_type": "code",
   "execution_count": 6,
   "metadata": {},
   "outputs": [],
   "source": [
    "# 1.5 validation set 분할- 두번째\n",
    "idx = train_x[train_x['transaction_year']==4].index\n",
    "X_valid = train_x[train_x['transaction_year']==4]\n",
    "X_train = train_x.drop(train_x[train_x['transaction_year']==4].index, axis = 0)\n",
    "Y_valid = train_y[idx]\n",
    "Y_train = train_y.drop(train_y.index[idx])"
   ]
  },
  {
   "cell_type": "code",
   "execution_count": 7,
   "metadata": {},
   "outputs": [
    {
     "name": "stdout",
     "output_type": "stream",
     "text": [
      "Requirement already satisfied: category_encoders in c:\\users\\samsung\\anaconda3\\lib\\site-packages (2.2.2)\n",
      "Requirement already satisfied: patsy>=0.5.1 in c:\\users\\samsung\\anaconda3\\lib\\site-packages (from category_encoders) (0.5.1)\n",
      "Requirement already satisfied: scipy>=1.0.0 in c:\\users\\samsung\\anaconda3\\lib\\site-packages (from category_encoders) (1.5.2)\n",
      "Requirement already satisfied: statsmodels>=0.9.0 in c:\\users\\samsung\\anaconda3\\lib\\site-packages (from category_encoders) (0.12.0)\n",
      "Requirement already satisfied: numpy>=1.14.0 in c:\\users\\samsung\\anaconda3\\lib\\site-packages (from category_encoders) (1.20.2)\n",
      "Requirement already satisfied: scikit-learn>=0.20.0 in c:\\users\\samsung\\anaconda3\\lib\\site-packages (from category_encoders) (0.23.2)\n",
      "Requirement already satisfied: pandas>=0.21.1 in c:\\users\\samsung\\anaconda3\\lib\\site-packages (from category_encoders) (1.2.4)\n",
      "Requirement already satisfied: six in c:\\users\\samsung\\anaconda3\\lib\\site-packages (from patsy>=0.5.1->category_encoders) (1.15.0)\n",
      "Requirement already satisfied: joblib>=0.11 in c:\\users\\samsung\\anaconda3\\lib\\site-packages (from scikit-learn>=0.20.0->category_encoders) (0.17.0)\n",
      "Requirement already satisfied: threadpoolctl>=2.0.0 in c:\\users\\samsung\\anaconda3\\lib\\site-packages (from scikit-learn>=0.20.0->category_encoders) (2.1.0)\n",
      "Requirement already satisfied: python-dateutil>=2.7.3 in c:\\users\\samsung\\anaconda3\\lib\\site-packages (from pandas>=0.21.1->category_encoders) (2.8.1)\n",
      "Requirement already satisfied: pytz>=2017.3 in c:\\users\\samsung\\anaconda3\\lib\\site-packages (from pandas>=0.21.1->category_encoders) (2020.1)\n"
     ]
    }
   ],
   "source": [
    "! pip install category_encoders"
   ]
  },
  {
   "cell_type": "code",
   "execution_count": 8,
   "metadata": {},
   "outputs": [],
   "source": [
    "from category_encoders.cat_boost import CatBoostEncoder"
   ]
  },
  {
   "cell_type": "code",
   "execution_count": 9,
   "metadata": {},
   "outputs": [],
   "source": [
    "cbe = CatBoostEncoder()\n",
    "X_train_cbe = cbe.fit_transform(X_train, Y_train)\n",
    "X_valid_cbe = cbe.transform(X_valid)"
   ]
  },
  {
   "cell_type": "code",
   "execution_count": 10,
   "metadata": {},
   "outputs": [
    {
     "data": {
      "text/html": [
       "<div>\n",
       "<style scoped>\n",
       "    .dataframe tbody tr th:only-of-type {\n",
       "        vertical-align: middle;\n",
       "    }\n",
       "\n",
       "    .dataframe tbody tr th {\n",
       "        vertical-align: top;\n",
       "    }\n",
       "\n",
       "    .dataframe thead th {\n",
       "        text-align: right;\n",
       "    }\n",
       "</style>\n",
       "<table border=\"1\" class=\"dataframe\">\n",
       "  <thead>\n",
       "    <tr style=\"text-align: right;\">\n",
       "      <th></th>\n",
       "      <th>dong</th>\n",
       "      <th>apt</th>\n",
       "      <th>exclusive_use_area</th>\n",
       "      <th>floor</th>\n",
       "      <th>transaction_year</th>\n",
       "      <th>until_trans</th>\n",
       "      <th>sin_date</th>\n",
       "      <th>cos_date</th>\n",
       "    </tr>\n",
       "  </thead>\n",
       "  <tbody>\n",
       "    <tr>\n",
       "      <th>2451</th>\n",
       "      <td>89176.597368</td>\n",
       "      <td>86280.203194</td>\n",
       "      <td>107.91</td>\n",
       "      <td>14</td>\n",
       "      <td>4</td>\n",
       "      <td>9</td>\n",
       "      <td>-1.000000e+00</td>\n",
       "      <td>-1.836970e-16</td>\n",
       "    </tr>\n",
       "    <tr>\n",
       "      <th>2452</th>\n",
       "      <td>89176.597368</td>\n",
       "      <td>86280.203194</td>\n",
       "      <td>151.81</td>\n",
       "      <td>10</td>\n",
       "      <td>4</td>\n",
       "      <td>9</td>\n",
       "      <td>-1.000000e+00</td>\n",
       "      <td>-1.836970e-16</td>\n",
       "    </tr>\n",
       "    <tr>\n",
       "      <th>2453</th>\n",
       "      <td>89176.597368</td>\n",
       "      <td>86280.203194</td>\n",
       "      <td>94.51</td>\n",
       "      <td>2</td>\n",
       "      <td>4</td>\n",
       "      <td>9</td>\n",
       "      <td>-2.449294e-16</td>\n",
       "      <td>1.000000e+00</td>\n",
       "    </tr>\n",
       "    <tr>\n",
       "      <th>2454</th>\n",
       "      <td>89176.597368</td>\n",
       "      <td>86280.203194</td>\n",
       "      <td>94.28</td>\n",
       "      <td>12</td>\n",
       "      <td>4</td>\n",
       "      <td>9</td>\n",
       "      <td>-2.449294e-16</td>\n",
       "      <td>1.000000e+00</td>\n",
       "    </tr>\n",
       "    <tr>\n",
       "      <th>2455</th>\n",
       "      <td>103789.156533</td>\n",
       "      <td>107170.755379</td>\n",
       "      <td>145.96</td>\n",
       "      <td>13</td>\n",
       "      <td>4</td>\n",
       "      <td>13</td>\n",
       "      <td>-1.000000e+00</td>\n",
       "      <td>-1.836970e-16</td>\n",
       "    </tr>\n",
       "  </tbody>\n",
       "</table>\n",
       "</div>"
      ],
      "text/plain": [
       "               dong            apt  exclusive_use_area  floor  \\\n",
       "2451   89176.597368   86280.203194              107.91     14   \n",
       "2452   89176.597368   86280.203194              151.81     10   \n",
       "2453   89176.597368   86280.203194               94.51      2   \n",
       "2454   89176.597368   86280.203194               94.28     12   \n",
       "2455  103789.156533  107170.755379              145.96     13   \n",
       "\n",
       "      transaction_year  until_trans      sin_date      cos_date  \n",
       "2451                 4            9 -1.000000e+00 -1.836970e-16  \n",
       "2452                 4            9 -1.000000e+00 -1.836970e-16  \n",
       "2453                 4            9 -2.449294e-16  1.000000e+00  \n",
       "2454                 4            9 -2.449294e-16  1.000000e+00  \n",
       "2455                 4           13 -1.000000e+00 -1.836970e-16  "
      ]
     },
     "execution_count": 10,
     "metadata": {},
     "output_type": "execute_result"
    }
   ],
   "source": [
    "X_valid_cbe.head()"
   ]
  },
  {
   "cell_type": "code",
   "execution_count": 11,
   "metadata": {},
   "outputs": [
    {
     "data": {
      "text/plain": [
       "<AxesSubplot:>"
      ]
     },
     "execution_count": 11,
     "metadata": {},
     "output_type": "execute_result"
    },
    {
     "data": {
      "image/png": "[encoded data removed]",
      "text/plain": [
       "<Figure size 1080x1080 with 2 Axes>"
      ]
     },
     "metadata": {
      "needs_background": "light"
     },
     "output_type": "display_data"
    }
   ],
   "source": [
    "#2 릿지 회귀\n",
    "# 2.1 상관계수 플랏\n",
    "\n",
    "import matplotlib.pyplot as plt \n",
    "import seaborn as sns   \n",
    "\n",
    "plt.figure(figsize=(15,15))\n",
    "sns.heatmap(data = X_train.corr(), annot=True, \n",
    "fmt = '.2f', linewidths=.5, cmap='Blues')"
   ]
  },
  {
   "cell_type": "code",
   "execution_count": 12,
   "metadata": {},
   "outputs": [
    {
     "name": "stdout",
     "output_type": "stream",
     "text": [
      "RMSE: 14777.8814195020\n",
      "\n",
      "RMSE: 14777.8814195924\n",
      "\n",
      "RMSE: 14777.8814204962\n",
      "\n",
      "RMSE: 14777.8814295334\n",
      "\n",
      "RMSE: 14777.8815199062\n",
      "\n"
     ]
    }
   ],
   "source": [
    "#2.2 릿지튜닝\n",
    "\n",
    "from sklearn.linear_model import Ridge\n",
    "from sklearn.metrics import mean_squared_error\n",
    "from math import sqrt\n",
    "\n",
    "alpha = [0.00001, 0.0001, 0.001, 0.01, 0.1]\n",
    "rlist = []\n",
    "\n",
    "for i in alpha:\n",
    "    ridge = Ridge(alpha = i)\n",
    "    ridge.fit(X_train_cbe, Y_train)\n",
    "    y_pred = ridge.predict(X_valid_cbe)\n",
    "    mse = mean_squared_error(Y_valid, y_pred)\n",
    "    rmse = np.sqrt(mse)\n",
    "    rlist.append(rmse)\n",
    "    print('RMSE: {0:.10f}\\n'.format(rmse))\n",
    "    "
   ]
  },
  {
   "cell_type": "code",
   "execution_count": 13,
   "metadata": {},
   "outputs": [
    {
     "data": {
      "text/plain": [
       "<function matplotlib.pyplot.show(close=None, block=None)>"
      ]
     },
     "execution_count": 13,
     "metadata": {},
     "output_type": "execute_result"
    },
    {
     "data": {
      "image/png": "[encoded data removed]",
      "text/plain": [
       "<Figure size 432x288 with 1 Axes>"
      ]
     },
     "metadata": {
      "needs_background": "light"
     },
     "output_type": "display_data"
    }
   ],
   "source": [
    "# 2.3 시각화\n",
    "\n",
    "from matplotlib import pyplot as plt\n",
    "\n",
    "plt.scatter(alpha, rlist)\n",
    "plt.yscale('linear')\n",
    "plt.xscale('linear')\n",
    "plt.ylim((14777.88141950, 14777.88152))\n",
    "plt.plot(alpha, rlist)\n",
    "plt.show"
   ]
  },
  {
   "cell_type": "code",
   "execution_count": 14,
   "metadata": {},
   "outputs": [
    {
     "data": {
      "text/plain": [
       "'튜닝이 잘 되지 않았습니다. Ridge regression을 돌리기에는 변수간의 상관관계가 거의 없다시피 했다는 점을 이유로 들 수 있겠습니다. 또 튜닝파라미터 alpha값 역시 지나치게 작아 penalty가 크게 적용되지 않았기 때문에 Ridge regression의 RMSE값이 alpha에 따라 유의미한 차이를 보이지 않았습니다. '"
      ]
     },
     "execution_count": 14,
     "metadata": {},
     "output_type": "execute_result"
    }
   ],
   "source": [
    "# 2,4 해석\n",
    "\n",
    "'''튜닝이 잘 되지 않았습니다. Ridge regression을 돌리기에는 변수간의 상관관계가 거의 없다시피 했다는 점을 이유로 들 수 있겠습니다. 또 튜닝파라미터 alpha값 역시 지나치게 작아 penalty가 크게 적용되지 않았기 때문에 Ridge regression의 RMSE값이 alpha에 따라 유의미한 차이를 보이지 않았습니다. '''"
   ]
  },
  {
   "cell_type": "code",
   "execution_count": 15,
   "metadata": {},
   "outputs": [],
   "source": [
    "# 2.5 그냥 선형 모형으로!\n",
    "\n",
    "from sklearn.linear_model import LinearRegression"
   ]
  },
  {
   "cell_type": "code",
   "execution_count": 16,
   "metadata": {},
   "outputs": [
    {
     "name": "stdout",
     "output_type": "stream",
     "text": [
      "14777.881419492343\n"
     ]
    }
   ],
   "source": [
    "lr = LinearRegression()\n",
    "lr.fit(X_train_cbe, Y_train)\n",
    "y_pred = lr.predict(X_valid_cbe)\n",
    "mse = mean_squared_error(Y_valid, y_pred)\n",
    "rmse = np.sqrt(mse)\n",
    "print(rmse)"
   ]
  },
  {
   "cell_type": "code",
   "execution_count": 17,
   "metadata": {},
   "outputs": [
    {
     "data": {
      "text/plain": [
       "'Ridge regressino과 rmse값이 크게 차이가 나지 않습니다. 애초에 페널티를 주어 변수를 shrink 시킬만큼 변수간의 상관관계가 존재하지도 않기 때문에 굳이 alpha값 조절해가며 ridge regression 하는 것보다 간단하게 linear regression 하는 게 더 나아보입니다.'"
      ]
     },
     "execution_count": 17,
     "metadata": {},
     "output_type": "execute_result"
    }
   ],
   "source": [
    "'''Ridge regressino과 rmse값이 크게 차이가 나지 않습니다. 애초에 페널티를 주어 변수를 shrink 시킬만큼 변수간의 상관관계가 존재하지도 않기 때문에 굳이 alpha값 조절해가며 ridge regression 하는 것보다 간단하게 linear regression 하는 게 더 나아보입니다.'''"
   ]
  },
  {
   "cell_type": "code",
   "execution_count": 18,
   "metadata": {},
   "outputs": [
    {
     "name": "stdout",
     "output_type": "stream",
     "text": [
      "Requirement already satisfied: lightgbm in c:\\users\\samsung\\anaconda3\\lib\\site-packages (3.2.1)\n",
      "Requirement already satisfied: wheel in c:\\users\\samsung\\anaconda3\\lib\\site-packages (from lightgbm) (0.35.1)\n",
      "Requirement already satisfied: scipy in c:\\users\\samsung\\anaconda3\\lib\\site-packages (from lightgbm) (1.5.2)\n",
      "Requirement already satisfied: scikit-learn!=0.22.0 in c:\\users\\samsung\\anaconda3\\lib\\site-packages (from lightgbm) (0.23.2)\n",
      "Requirement already satisfied: numpy in c:\\users\\samsung\\anaconda3\\lib\\site-packages (from lightgbm) (1.20.2)\n",
      "Requirement already satisfied: threadpoolctl>=2.0.0 in c:\\users\\samsung\\anaconda3\\lib\\site-packages (from scikit-learn!=0.22.0->lightgbm) (2.1.0)\n",
      "Requirement already satisfied: joblib>=0.11 in c:\\users\\samsung\\anaconda3\\lib\\site-packages (from scikit-learn!=0.22.0->lightgbm) (0.17.0)\n"
     ]
    }
   ],
   "source": [
    "#3 LightGBM\n",
    "\n",
    "! pip install lightgbm"
   ]
  },
  {
   "cell_type": "code",
   "execution_count": 19,
   "metadata": {},
   "outputs": [
    {
     "data": {
      "text/plain": [
       "'LGBM은 기본적으로 leaf-wise tree를 생각하면 쉽습니다. LGBM은 거대한 데이터를 가볍게 다루는 데 특화되어 있는 모델입니다. 따라서 학습 시간이 짧고 메모리 사용이 적습니다. 그러나 작은 데이터에 적용할 경우 과적합 발생합니다. '"
      ]
     },
     "execution_count": 19,
     "metadata": {},
     "output_type": "execute_result"
    }
   ],
   "source": [
    "#3.1 LightGBM 이해\n",
    "'''LGBM은 기본적으로 leaf-wise tree를 생각하면 쉽습니다. LGBM은 거대한 데이터를 가볍게 다루는 데 특화되어 있는 모델입니다. 따라서 학습 시간이 짧고 메모리 사용이 적습니다. 그러나 작은 데이터에 적용할 경우 과적합 발생합니다. '''"
   ]
  },
  {
   "cell_type": "code",
   "execution_count": 20,
   "metadata": {},
   "outputs": [
    {
     "name": "stdout",
     "output_type": "stream",
     "text": [
      "[LightGBM] [Warning] Auto-choosing row-wise multi-threading, the overhead of testing was 0.011096 seconds.\n",
      "You can set `force_row_wise=true` to remove the overhead.\n",
      "And if memory is not enough, you can set `force_col_wise=true`.\n",
      "[LightGBM] [Info] Total Bins 927\n",
      "[LightGBM] [Info] Number of data points in the train set: 312466, number of used features: 8\n",
      "[LightGBM] [Info] Start training from score 46056.618349\n",
      "RMSE: 12157.4419704691\n",
      "\n",
      "[LightGBM] [Warning] Auto-choosing col-wise multi-threading, the overhead of testing was 0.026955 seconds.\n",
      "You can set `force_col_wise=true` to remove the overhead.\n",
      "[LightGBM] [Info] Total Bins 927\n",
      "[LightGBM] [Info] Number of data points in the train set: 312466, number of used features: 8\n",
      "[LightGBM] [Info] Start training from score 46056.618349\n",
      "RMSE: 11212.7761401961\n",
      "\n",
      "[LightGBM] [Warning] Auto-choosing col-wise multi-threading, the overhead of testing was 0.026764 seconds.\n",
      "You can set `force_col_wise=true` to remove the overhead.\n",
      "[LightGBM] [Info] Total Bins 927\n",
      "[LightGBM] [Info] Number of data points in the train set: 312466, number of used features: 8\n",
      "[LightGBM] [Info] Start training from score 46056.618349\n",
      "RMSE: 11169.6860662147\n",
      "\n",
      "[LightGBM] [Warning] Auto-choosing col-wise multi-threading, the overhead of testing was 0.024236 seconds.\n",
      "You can set `force_col_wise=true` to remove the overhead.\n",
      "[LightGBM] [Info] Total Bins 927\n",
      "[LightGBM] [Info] Number of data points in the train set: 312466, number of used features: 8\n",
      "[LightGBM] [Info] Start training from score 46056.618349\n",
      "RMSE: 11150.3734991767\n",
      "\n",
      "[LightGBM] [Warning] Auto-choosing row-wise multi-threading, the overhead of testing was 0.013358 seconds.\n",
      "You can set `force_row_wise=true` to remove the overhead.\n",
      "And if memory is not enough, you can set `force_col_wise=true`.\n",
      "[LightGBM] [Info] Total Bins 927\n",
      "[LightGBM] [Info] Number of data points in the train set: 312466, number of used features: 8\n",
      "[LightGBM] [Info] Start training from score 46056.618349\n",
      "RMSE: 11571.6432222112\n",
      "\n",
      "[LightGBM] [Warning] Auto-choosing col-wise multi-threading, the overhead of testing was 0.026872 seconds.\n",
      "You can set `force_col_wise=true` to remove the overhead.\n",
      "[LightGBM] [Info] Total Bins 927\n",
      "[LightGBM] [Info] Number of data points in the train set: 312466, number of used features: 8\n",
      "[LightGBM] [Info] Start training from score 46056.618349\n",
      "RMSE: 13036.0597839609\n",
      "\n",
      "[LightGBM] [Warning] Auto-choosing row-wise multi-threading, the overhead of testing was 0.017864 seconds.\n",
      "You can set `force_row_wise=true` to remove the overhead.\n",
      "And if memory is not enough, you can set `force_col_wise=true`.\n",
      "[LightGBM] [Info] Total Bins 927\n",
      "[LightGBM] [Info] Number of data points in the train set: 312466, number of used features: 8\n",
      "[LightGBM] [Info] Start training from score 46056.618349\n",
      "RMSE: 13069.6886811152\n",
      "\n"
     ]
    }
   ],
   "source": [
    "#3.2 LGBM 튜닝\n",
    "\n",
    "import lightgbm as lgb\n",
    "from lightgbm import LGBMModel, LGBMRegressor\n",
    "from sklearn.model_selection import GridSearchCV\n",
    "\n",
    "learning_rate = [0.01, 0.05, 0.1, 0.3, 0.5, 0.7, 0.99]\n",
    "\n",
    "train_ds = lgb.Dataset(X_train_cbe, label = Y_train)\n",
    "test_ds = lgb.Dataset(X_valid_cbe, Y_valid)\n",
    "for i in (learning_rate):\n",
    "    params = {'learning_rate': i}\n",
    "    model = lgb.train(params, train_ds, 500, test_ds, verbose_eval = 100)\n",
    "    y_pred = model.predict(X_valid_cbe)\n",
    "    mse = mean_squared_error(Y_valid, y_pred)\n",
    "    rmse = np.sqrt(mse)\n",
    "    print('RMSE: {0:.10f}\\n'.format(rmse))\n",
    "\n"
   ]
  },
  {
   "cell_type": "code",
   "execution_count": 21,
   "metadata": {},
   "outputs": [
    {
     "data": {
      "text/plain": [
       "'Grid Search는 최적의 하이퍼 파라미터를 찾기 위해 파라미터 조합을 사용합니다. 따라서 모든 조합을 다 하나씩 확인합니다. 따라서 정확하지만 느립니다. 반대로 Random Search는 모든 조합을 시도하는 대신 각 하이퍼 파라미터를 랜덤으로 대입하여 설정한 반복횟수만큼 탐색합니다. 따라서 빠르지만 모든 조합을 고려하지 않게 되죠. 베이즈 최적화는 입력값을 받는 target function을 만들어서 그 function값을 최대로 하는 하이퍼 파라미터를 찾는 방법입니다. 베이즈 최적화는 그리드 서치나 랜덤 서치보다 효율적이지만 사전 정보가 필요합니다.'"
      ]
     },
     "execution_count": 21,
     "metadata": {},
     "output_type": "execute_result"
    }
   ],
   "source": [
    "#3.4 튜닝에 대하여 알아보자\n",
    "\n",
    "'''Grid Search는 최적의 하이퍼 파라미터를 찾기 위해 파라미터 조합을 사용합니다. 따라서 모든 조합을 다 하나씩 확인합니다. 따라서 정확하지만 느립니다. 반대로 Random Search는 모든 조합을 시도하는 대신 각 하이퍼 파라미터를 랜덤으로 대입하여 설정한 반복횟수만큼 탐색합니다. 따라서 빠르지만 모든 조합을 고려하지 않게 되죠. 베이즈 최적화는 입력값을 받는 target function을 만들어서 그 function값을 최대로 하는 하이퍼 파라미터를 찾는 방법입니다. 베이즈 최적화는 그리드 서치나 랜덤 서치보다 효율적이지만 사전 정보가 필요합니다.'''"
   ]
  },
  {
   "cell_type": "code",
   "execution_count": 22,
   "metadata": {},
   "outputs": [],
   "source": [
    "#4 test set"
   ]
  },
  {
   "cell_type": "code",
   "execution_count": 23,
   "metadata": {},
   "outputs": [],
   "source": [
    "#4.! test set 불러오기\n",
    "test_x = test.drop('price',axis = 1)\n",
    "test_y = test['price']"
   ]
  },
  {
   "cell_type": "code",
   "execution_count": 24,
   "metadata": {},
   "outputs": [
    {
     "data": {
      "text/html": [
       "<div>\n",
       "<style scoped>\n",
       "    .dataframe tbody tr th:only-of-type {\n",
       "        vertical-align: middle;\n",
       "    }\n",
       "\n",
       "    .dataframe tbody tr th {\n",
       "        vertical-align: top;\n",
       "    }\n",
       "\n",
       "    .dataframe thead th {\n",
       "        text-align: right;\n",
       "    }\n",
       "</style>\n",
       "<table border=\"1\" class=\"dataframe\">\n",
       "  <thead>\n",
       "    <tr style=\"text-align: right;\">\n",
       "      <th></th>\n",
       "      <th>dong</th>\n",
       "      <th>apt</th>\n",
       "      <th>exclusive_use_area</th>\n",
       "      <th>floor</th>\n",
       "      <th>transaction_year</th>\n",
       "      <th>until_trans</th>\n",
       "      <th>sin_date</th>\n",
       "      <th>cos_date</th>\n",
       "    </tr>\n",
       "  </thead>\n",
       "  <tbody>\n",
       "    <tr>\n",
       "      <th>0</th>\n",
       "      <td>91827.227742</td>\n",
       "      <td>89369.051084</td>\n",
       "      <td>70.80</td>\n",
       "      <td>1</td>\n",
       "      <td>5</td>\n",
       "      <td>10</td>\n",
       "      <td>-1.000000e+00</td>\n",
       "      <td>-1.836970e-16</td>\n",
       "    </tr>\n",
       "    <tr>\n",
       "      <th>1</th>\n",
       "      <td>91827.227742</td>\n",
       "      <td>89369.051084</td>\n",
       "      <td>94.51</td>\n",
       "      <td>8</td>\n",
       "      <td>5</td>\n",
       "      <td>10</td>\n",
       "      <td>-2.449294e-16</td>\n",
       "      <td>1.000000e+00</td>\n",
       "    </tr>\n",
       "    <tr>\n",
       "      <th>2</th>\n",
       "      <td>91827.227742</td>\n",
       "      <td>89369.051084</td>\n",
       "      <td>160.85</td>\n",
       "      <td>11</td>\n",
       "      <td>5</td>\n",
       "      <td>10</td>\n",
       "      <td>-2.449294e-16</td>\n",
       "      <td>1.000000e+00</td>\n",
       "    </tr>\n",
       "    <tr>\n",
       "      <th>3</th>\n",
       "      <td>91827.227742</td>\n",
       "      <td>89369.051084</td>\n",
       "      <td>94.51</td>\n",
       "      <td>6</td>\n",
       "      <td>5</td>\n",
       "      <td>10</td>\n",
       "      <td>1.000000e+00</td>\n",
       "      <td>3.061617e-16</td>\n",
       "    </tr>\n",
       "    <tr>\n",
       "      <th>4</th>\n",
       "      <td>91827.227742</td>\n",
       "      <td>89369.051084</td>\n",
       "      <td>136.40</td>\n",
       "      <td>3</td>\n",
       "      <td>5</td>\n",
       "      <td>10</td>\n",
       "      <td>1.000000e+00</td>\n",
       "      <td>3.061617e-16</td>\n",
       "    </tr>\n",
       "  </tbody>\n",
       "</table>\n",
       "</div>"
      ],
      "text/plain": [
       "           dong           apt  exclusive_use_area  floor  transaction_year  \\\n",
       "0  91827.227742  89369.051084               70.80      1                 5   \n",
       "1  91827.227742  89369.051084               94.51      8                 5   \n",
       "2  91827.227742  89369.051084              160.85     11                 5   \n",
       "3  91827.227742  89369.051084               94.51      6                 5   \n",
       "4  91827.227742  89369.051084              136.40      3                 5   \n",
       "\n",
       "   until_trans      sin_date      cos_date  \n",
       "0           10 -1.000000e+00 -1.836970e-16  \n",
       "1           10 -2.449294e-16  1.000000e+00  \n",
       "2           10 -2.449294e-16  1.000000e+00  \n",
       "3           10  1.000000e+00  3.061617e-16  \n",
       "4           10  1.000000e+00  3.061617e-16  "
      ]
     },
     "execution_count": 24,
     "metadata": {},
     "output_type": "execute_result"
    }
   ],
   "source": [
    "#4.2 catboost 인코딩\n",
    "\n",
    "cbe2 = CatBoostEncoder()\n",
    "Whole_train_cbe = cbe.fit_transform(train_x, train_y)\n",
    "Whole_valid_cbe = cbe.transform(test_x)\n",
    "Whole_valid_cbe.head()"
   ]
  },
  {
   "cell_type": "code",
   "execution_count": 25,
   "metadata": {},
   "outputs": [
    {
     "name": "stdout",
     "output_type": "stream",
     "text": [
      "16350.627412822749\n"
     ]
    }
   ],
   "source": [
    "#4.3 최적의 파라미터 적합\n",
    "#Linear Regression\n",
    "\n",
    "lr2 = LinearRegression()\n",
    "lr2.fit(Whole_train_cbe, train_y)\n",
    "y_pred = lr2.predict(Whole_valid_cbe)\n",
    "mse = mean_squared_error(test_y, y_pred)\n",
    "rmse = np.sqrt(mse)\n",
    "print(rmse)"
   ]
  },
  {
   "cell_type": "code",
   "execution_count": 26,
   "metadata": {},
   "outputs": [
    {
     "name": "stdout",
     "output_type": "stream",
     "text": [
      "[LightGBM] [Warning] Auto-choosing col-wise multi-threading, the overhead of testing was 0.032562 seconds.\n",
      "You can set `force_col_wise=true` to remove the overhead.\n",
      "[LightGBM] [Info] Total Bins 929\n",
      "[LightGBM] [Info] Number of data points in the train set: 422164, number of used features: 8\n",
      "[LightGBM] [Info] Start training from score 48041.092876\n",
      "RMSE: 12054.5916315652\n",
      "\n"
     ]
    }
   ],
   "source": [
    "#4.3 최적의 파라미터 적합\n",
    "#LGBM\n",
    "\n",
    "Whole_train_ds = lgb.Dataset(Whole_train_cbe, label = train_y)\n",
    "Whole_test_ds = lgb.Dataset(Whole_valid_cbe, test_y)\n",
    "\n",
    "params = {'learning_rate': 0.3}\n",
    "model = lgb.train(params, Whole_train_ds, 500, Whole_test_ds, verbose_eval = 100)\n",
    "y_pred = model.predict(Whole_valid_cbe)\n",
    "mse = mean_squared_error(test_y, y_pred)\n",
    "rmse = np.sqrt(mse)\n",
    "print('RMSE: {0:.10f}\\n'.format(rmse))"
   ]
  },
  {
   "cell_type": "code",
   "execution_count": 27,
   "metadata": {},
   "outputs": [
    {
     "data": {
      "text/plain": [
       "'test set에 선형회귀 모델과 LGBM모델을 적용한 결과 LGBM 모델의 test RMSE가 더 작게 나왔습니다. 역시 부스팅 계열 모델이 일반 회귀 모델보다 성능이 좋음을 확인합니다. '"
      ]
     },
     "execution_count": 27,
     "metadata": {},
     "output_type": "execute_result"
    }
   ],
   "source": [
    "#4.4 test set에 대해 평가\n",
    "\n",
    "'''test set에 선형회귀 모델과 LGBM모델을 적용한 결과 LGBM 모델의 test RMSE가 더 작게 나왔습니다. 역시 부스팅 계열 모델이 일반 회귀 모델보다 성능이 좋음을 확인합니다. '''"
   ]
  },
  {
   "cell_type": "code",
   "execution_count": null,
   "metadata": {},
   "outputs": [],
   "source": []
  },
  {
   "cell_type": "code",
   "execution_count": null,
   "metadata": {},
   "outputs": [],
   "source": []
  },
  {
   "cell_type": "code",
   "execution_count": null,
   "metadata": {},
   "outputs": [],
   "source": []
  },
  {
   "cell_type": "code",
   "execution_count": null,
   "metadata": {},
   "outputs": [],
   "source": []
  },
  {
   "cell_type": "code",
   "execution_count": null,
   "metadata": {},
   "outputs": [],
   "source": []
  },
  {
   "cell_type": "code",
   "execution_count": null,
   "metadata": {},
   "outputs": [],
   "source": []
  },
  {
   "cell_type": "code",
   "execution_count": null,
   "metadata": {},
   "outputs": [],
   "source": []
  }
 ],
 "metadata": {
  "kernelspec": {
   "display_name": "Python 3",
   "language": "python",
   "name": "python3"
  },
  "language_info": {
   "codemirror_mode": {
    "name": "ipython",
    "version": 3
   },
   "file_extension": ".py",
   "mimetype": "text/x-python",
   "name": "python",
   "nbconvert_exporter": "python",
   "pygments_lexer": "ipython3",
   "version": "3.8.8"
  }
 },
 "nbformat": 4,
 "nbformat_minor": 4
}
