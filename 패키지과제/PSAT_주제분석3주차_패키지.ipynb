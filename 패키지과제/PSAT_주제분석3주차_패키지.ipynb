{
  "nbformat": 4,
  "nbformat_minor": 0,
  "metadata": {
    "colab": {
      "name": "Untitled1.ipynb",
      "provenance": [],
      "collapsed_sections": []
    },
    "kernelspec": {
      "name": "python3",
      "display_name": "Python 3"
    },
    "language_info": {
      "name": "python"
    }
  },
  "cells": [
    {
      "cell_type": "code",
      "metadata": {
        "colab": {
          "base_uri": "https://localhost:8080/"
        },
        "id": "SQCtFREXPrqq",
        "outputId": "0160ed8e-6b87-484c-a5bf-101b76dcd810"
      },
      "source": [
        "import pandas as pd\n",
        "import numpy as np\n",
        "import matplotlib.pyplot as plt\n",
        "import seaborn as sns\n",
        "\n",
        "! pip install category_encoders\n",
        "from category_encoders.cat_boost import CatBoostEncoder\n",
        "import lightgbm as lgb\n",
        "from lightgbm import LGBMModel, LGBMRegressor"
      ],
      "execution_count": null,
      "outputs": [
        {
          "output_type": "stream",
          "text": [
            "Collecting category_encoders\n",
            "\u001b[?25l  Downloading https://files.pythonhosted.org/packages/44/57/fcef41c248701ee62e8325026b90c432adea35555cbc870aff9cfba23727/category_encoders-2.2.2-py2.py3-none-any.whl (80kB)\n",
            "\r\u001b[K     |████                            | 10kB 11.5MB/s eta 0:00:01\r\u001b[K     |████████▏                       | 20kB 9.3MB/s eta 0:00:01\r\u001b[K     |████████████▏                   | 30kB 5.8MB/s eta 0:00:01\r\u001b[K     |████████████████▎               | 40kB 5.1MB/s eta 0:00:01\r\u001b[K     |████████████████████▎           | 51kB 2.6MB/s eta 0:00:01\r\u001b[K     |████████████████████████▍       | 61kB 2.8MB/s eta 0:00:01\r\u001b[K     |████████████████████████████▍   | 71kB 3.0MB/s eta 0:00:01\r\u001b[K     |████████████████████████████████| 81kB 2.4MB/s \n",
            "\u001b[?25hRequirement already satisfied: pandas>=0.21.1 in /usr/local/lib/python3.7/dist-packages (from category_encoders) (1.1.5)\n",
            "Requirement already satisfied: statsmodels>=0.9.0 in /usr/local/lib/python3.7/dist-packages (from category_encoders) (0.10.2)\n",
            "Requirement already satisfied: patsy>=0.5.1 in /usr/local/lib/python3.7/dist-packages (from category_encoders) (0.5.1)\n",
            "Requirement already satisfied: scipy>=1.0.0 in /usr/local/lib/python3.7/dist-packages (from category_encoders) (1.4.1)\n",
            "Requirement already satisfied: numpy>=1.14.0 in /usr/local/lib/python3.7/dist-packages (from category_encoders) (1.19.5)\n",
            "Requirement already satisfied: scikit-learn>=0.20.0 in /usr/local/lib/python3.7/dist-packages (from category_encoders) (0.22.2.post1)\n",
            "Requirement already satisfied: python-dateutil>=2.7.3 in /usr/local/lib/python3.7/dist-packages (from pandas>=0.21.1->category_encoders) (2.8.1)\n",
            "Requirement already satisfied: pytz>=2017.2 in /usr/local/lib/python3.7/dist-packages (from pandas>=0.21.1->category_encoders) (2018.9)\n",
            "Requirement already satisfied: six in /usr/local/lib/python3.7/dist-packages (from patsy>=0.5.1->category_encoders) (1.15.0)\n",
            "Requirement already satisfied: joblib>=0.11 in /usr/local/lib/python3.7/dist-packages (from scikit-learn>=0.20.0->category_encoders) (1.0.1)\n",
            "Installing collected packages: category-encoders\n",
            "Successfully installed category-encoders-2.2.2\n"
          ],
          "name": "stdout"
        },
        {
          "output_type": "stream",
          "text": [
            "/usr/local/lib/python3.7/dist-packages/statsmodels/tools/_testing.py:19: FutureWarning: pandas.util.testing is deprecated. Use the functions in the public API at pandas.testing instead.\n",
            "  import pandas.util.testing as tm\n"
          ],
          "name": "stderr"
        }
      ]
    },
    {
      "cell_type": "code",
      "metadata": {
        "colab": {
          "base_uri": "https://localhost:8080/"
        },
        "id": "nQ1q7iflPxuO",
        "outputId": "cd8625a7-eb24-484d-bbde-da24e26292c3"
      },
      "source": [
        "from google.colab import drive \n",
        "drive.mount('/content/drive')"
      ],
      "execution_count": null,
      "outputs": [
        {
          "output_type": "stream",
          "text": [
            "Mounted at /content/drive\n"
          ],
          "name": "stdout"
        }
      ]
    },
    {
      "cell_type": "code",
      "metadata": {
        "id": "e7ur6_ciQiy4"
      },
      "source": [
        "train = pd.read_csv(\"/content/drive/MyDrive/Colab Notebooks/train.csv\")\n",
        "test = pd.read_csv(\"/content/drive/MyDrive/Colab Notebooks/test.csv\")"
      ],
      "execution_count": null,
      "outputs": []
    },
    {
      "cell_type": "code",
      "metadata": {
        "colab": {
          "base_uri": "https://localhost:8080/"
        },
        "id": "tYm9b9hnRpuO",
        "outputId": "9ac505a9-39f9-4c3e-b38b-078c0ad6344b"
      },
      "source": [
        "train_x = train.drop(['price'], axis = 1)\n",
        "train_y = train.loc[:, ['price']]\n",
        "test_x = test.drop(['price'], axis = 1)\n",
        "test_y = np.sqrt(test.loc[:, ['price']])\n",
        "\n",
        "\n",
        "feature_list = list(train_x.columns)\n",
        "\n",
        "CBE_encoder = CatBoostEncoder()\n",
        "train_cbe = CBE_encoder.fit_transform(train_x[feature_list], train_y)\n",
        "test_cbe = CBE_encoder.transform(test_x[feature_list])\n",
        "\n",
        "best_lgbm_reg = LGBMRegressor(learning_rate = 0.3)\n",
        "best_lgbm_reg.fit(train_cbe, train_y)"
      ],
      "execution_count": null,
      "outputs": [
        {
          "output_type": "execute_result",
          "data": {
            "text/plain": [
              "LGBMRegressor(boosting_type='gbdt', class_weight=None, colsample_bytree=1.0,\n",
              "              importance_type='split', learning_rate=0.3, max_depth=-1,\n",
              "              min_child_samples=20, min_child_weight=0.001, min_split_gain=0.0,\n",
              "              n_estimators=100, n_jobs=-1, num_leaves=31, objective=None,\n",
              "              random_state=None, reg_alpha=0.0, reg_lambda=0.0, silent=True,\n",
              "              subsample=1.0, subsample_for_bin=200000, subsample_freq=0)"
            ]
          },
          "metadata": {
            "tags": []
          },
          "execution_count": 8
        }
      ]
    },
    {
      "cell_type": "code",
      "metadata": {
        "colab": {
          "base_uri": "https://localhost:8080/"
        },
        "id": "hA-x676pRsn1",
        "outputId": "2d1a33ea-3061-4eeb-d69c-69b395c901b5"
      },
      "source": [
        "# 1.1 모델 불러오기\n",
        "\n",
        "import pickle\n",
        "import joblib\n",
        "\n",
        "#import pickle model\n",
        "\n",
        "model_lgbm = pickle.load(open('/content/drive/MyDrive/Colab Notebooks/lgbm.pkl', 'rb'))\n",
        "print(model_lgbm)"
      ],
      "execution_count": null,
      "outputs": [
        {
          "output_type": "stream",
          "text": [
            "LGBMRegressor(boosting_type='gbdt', class_weight=None, colsample_bytree=1.0,\n",
            "              importance_type='split', learning_rate=0.3, max_depth=-1,\n",
            "              min_child_samples=20, min_child_weight=0.001, min_split_gain=0.0,\n",
            "              n_estimators=100, n_jobs=-1, num_leaves=31, objective=None,\n",
            "              random_state=None, reg_alpha=0.0, reg_lambda=0.0, silent=True,\n",
            "              subsample=1.0, subsample_for_bin=200000, subsample_freq=0)\n"
          ],
          "name": "stdout"
        }
      ]
    },
    {
      "cell_type": "code",
      "metadata": {
        "colab": {
          "base_uri": "https://localhost:8080/",
          "height": 591
        },
        "id": "JHNeNB_qR78P",
        "outputId": "aad00193-6b7e-433d-984c-24dc21be319d"
      },
      "source": [
        "# 1.2 Feature Importance 확인과 해석\n",
        "\n",
        "from lightgbm import plot_importance\n",
        "\n",
        "plot_importance(model_lgbm)\n",
        "plot_importance(best_lgbm_reg)"
      ],
      "execution_count": null,
      "outputs": [
        {
          "output_type": "execute_result",
          "data": {
            "text/plain": [
              "<matplotlib.axes._subplots.AxesSubplot at 0x7f415ac3fcd0>"
            ]
          },
          "metadata": {
            "tags": []
          },
          "execution_count": 10
        },
        {
          "output_type": "display_data",
          "data": {
            "image/png": "[encoded data removed]",
            "text/plain": [
              "<Figure size 432x288 with 1 Axes>"
            ]
          },
          "metadata": {
            "tags": [],
            "needs_background": "light"
          }
        },
        {
          "output_type": "display_data",
          "data": {
            "image/png": "[encoded data removed]",
            "text/plain": [
              "<Figure size 432x288 with 1 Axes>"
            ]
          },
          "metadata": {
            "tags": [],
            "needs_background": "light"
          }
        }
      ]
    },
    {
      "cell_type": "code",
      "metadata": {
        "colab": {
          "base_uri": "https://localhost:8080/",
          "height": 71
        },
        "id": "0sx9GZ_YSACA",
        "outputId": "2bfcb699-2d4a-4c4f-b693-ed8bc8ff900f"
      },
      "source": [
        "'''상단의 그래프는 주어졌던 lgbm.pkl 모델의 변수 중요도를 나타낸 그래프이고, 하단은 learning_rate 하이퍼 파라미터를 0,3으로 설정해 train, test data에 적합시킨 lgbm 모델의 변수 중요도를 나타낸 그래프입니다. 두 모델의 변수 중요도가 동일하게 나옵니다. exclusive_use_area 변수의 중요도가 가장 높고, sin, cos_date 변수들의 중요도가 가장 낮은 것으로 나타납니다. 그러나 plot_importance 함수에 의해 출력되는 변수 중요도는 트리가 분할할 때 정보 획득이나 불순도 감소만을 고려하여 계산된 중요도이기 때문에 이 결과를 두고 변수를 마음대로 삭제해선 안 될 것입니다.'''\n"
      ],
      "execution_count": null,
      "outputs": [
        {
          "output_type": "execute_result",
          "data": {
            "application/vnd.google.colaboratory.intrinsic+json": {
              "type": "string"
            },
            "text/plain": [
              "'상단의 그래프는 주어졌던 lgbm.pkl 모델의 변수 중요도를 나타낸 그래프이고, 하단은 learning_rate 하이퍼 파라미터를 0,3으로 설정해 train, test data에 적합시킨 lgbm 모델의 변수 중요도를 나타낸 그래프입니다. 두 모델의 변수 중요도가 동일하게 나옵니다. exclusive_use_area 변수의 중요도가 가장 높고, sin, cos_date 변수들의 중요도가 가장 낮은 것으로 나타납니다. 그러나 plot_importance 함수에 의해 출력되는 변수 중요도는 트리가 분할할 때 정보 획득이나 불순도 감소만을 고려하여 계산된 중요도이기 때문에 이 결과를 두고 변수를 마음대로 삭제해선 안 될 것입니다.'"
            ]
          },
          "metadata": {
            "tags": []
          },
          "execution_count": 15
        }
      ]
    },
    {
      "cell_type": "code",
      "metadata": {
        "id": "nzWgp3DBSEE8"
      },
      "source": [
        "#1.3 Randomness Control\n",
        "\n",
        "import random\n",
        "import os\n",
        "\n",
        "# define seed setting function\n",
        "\n",
        "def seed_everything(seed):\n",
        "    random.seed(seed)\n",
        "    np.random.seed(seed)\n",
        "    os.environ[\"PYTHONHASHSEED\"] = str(seed)\n",
        "\n",
        "seed = 42\n",
        "seed_everything(seed)"
      ],
      "execution_count": null,
      "outputs": []
    },
    {
      "cell_type": "code",
      "metadata": {
        "colab": {
          "base_uri": "https://localhost:8080/",
          "height": 281
        },
        "id": "33h0WQlbShjY",
        "outputId": "fbf78869-abd6-44a5-8357-351dc11b2772"
      },
      "source": [
        "# 1.4 permutation feature importance\n",
        "\n",
        "from sklearn.inspection import permutation_importance\n",
        "\n",
        "\n",
        "# Get permutation importance \n",
        "\n",
        "feature_importance = permutation_importance(best_lgbm_reg, test_cbe, test_y)\n",
        "plt.figure()\n",
        "plt.title(\"Best_LGBM_Regressor feature importance\")\n",
        "plt.barh(range(len(feature_importance.importances)),feature_importance['importances_mean'])\n",
        "plt.gca().invert_xaxis()\n",
        "plt.gca().invert_yaxis()\n",
        "plt.show()"
      ],
      "execution_count": null,
      "outputs": [
        {
          "output_type": "display_data",
          "data": {
            "image/png": "[encoded data removed]",
            "text/plain": [
              "<Figure size 432x288 with 1 Axes>"
            ]
          },
          "metadata": {
            "tags": [],
            "needs_background": "light"
          }
        }
      ]
    },
    {
      "cell_type": "code",
      "metadata": {
        "colab": {
          "base_uri": "https://localhost:8080/"
        },
        "id": "ITyJZU4XSmdL",
        "outputId": "d4b97b3f-703b-4fa9-d8d0-e9947e82f2b3"
      },
      "source": [
        "# 1.5 SHAP의 확인과 해석\n",
        "\n",
        "! pip install shap\n",
        "import shap"
      ],
      "execution_count": null,
      "outputs": [
        {
          "output_type": "stream",
          "text": [
            "Collecting shap\n",
            "\u001b[?25l  Downloading https://files.pythonhosted.org/packages/b9/f4/c5b95cddae15be80f8e58b25edceca105aa83c0b8c86a1edad24a6af80d3/shap-0.39.0.tar.gz (356kB)\n",
            "\r\u001b[K     |█                               | 10kB 18.0MB/s eta 0:00:01\r\u001b[K     |█▉                              | 20kB 8.1MB/s eta 0:00:01\r\u001b[K     |██▊                             | 30kB 5.5MB/s eta 0:00:01\r\u001b[K     |███▊                            | 40kB 5.1MB/s eta 0:00:01\r\u001b[K     |████▋                           | 51kB 2.7MB/s eta 0:00:01\r\u001b[K     |█████▌                          | 61kB 3.0MB/s eta 0:00:01\r\u001b[K     |██████▍                         | 71kB 3.1MB/s eta 0:00:01\r\u001b[K     |███████▍                        | 81kB 3.4MB/s eta 0:00:01\r\u001b[K     |████████▎                       | 92kB 3.6MB/s eta 0:00:01\r\u001b[K     |█████████▏                      | 102kB 3.8MB/s eta 0:00:01\r\u001b[K     |██████████▏                     | 112kB 3.8MB/s eta 0:00:01\r\u001b[K     |███████████                     | 122kB 3.8MB/s eta 0:00:01\r\u001b[K     |████████████                    | 133kB 3.8MB/s eta 0:00:01\r\u001b[K     |████████████▉                   | 143kB 3.8MB/s eta 0:00:01\r\u001b[K     |█████████████▉                  | 153kB 3.8MB/s eta 0:00:01\r\u001b[K     |██████████████▊                 | 163kB 3.8MB/s eta 0:00:01\r\u001b[K     |███████████████▋                | 174kB 3.8MB/s eta 0:00:01\r\u001b[K     |████████████████▋               | 184kB 3.8MB/s eta 0:00:01\r\u001b[K     |█████████████████▌              | 194kB 3.8MB/s eta 0:00:01\r\u001b[K     |██████████████████▍             | 204kB 3.8MB/s eta 0:00:01\r\u001b[K     |███████████████████▎            | 215kB 3.8MB/s eta 0:00:01\r\u001b[K     |████████████████████▎           | 225kB 3.8MB/s eta 0:00:01\r\u001b[K     |█████████████████████▏          | 235kB 3.8MB/s eta 0:00:01\r\u001b[K     |██████████████████████          | 245kB 3.8MB/s eta 0:00:01\r\u001b[K     |███████████████████████         | 256kB 3.8MB/s eta 0:00:01\r\u001b[K     |████████████████████████        | 266kB 3.8MB/s eta 0:00:01\r\u001b[K     |████████████████████████▉       | 276kB 3.8MB/s eta 0:00:01\r\u001b[K     |█████████████████████████▊      | 286kB 3.8MB/s eta 0:00:01\r\u001b[K     |██████████████████████████▊     | 296kB 3.8MB/s eta 0:00:01\r\u001b[K     |███████████████████████████▋    | 307kB 3.8MB/s eta 0:00:01\r\u001b[K     |████████████████████████████▌   | 317kB 3.8MB/s eta 0:00:01\r\u001b[K     |█████████████████████████████▍  | 327kB 3.8MB/s eta 0:00:01\r\u001b[K     |██████████████████████████████▍ | 337kB 3.8MB/s eta 0:00:01\r\u001b[K     |███████████████████████████████▎| 348kB 3.8MB/s eta 0:00:01\r\u001b[K     |████████████████████████████████| 358kB 3.8MB/s \n",
            "\u001b[?25hRequirement already satisfied: numpy in /usr/local/lib/python3.7/dist-packages (from shap) (1.19.5)\n",
            "Requirement already satisfied: scipy in /usr/local/lib/python3.7/dist-packages (from shap) (1.4.1)\n",
            "Requirement already satisfied: scikit-learn in /usr/local/lib/python3.7/dist-packages (from shap) (0.22.2.post1)\n",
            "Requirement already satisfied: pandas in /usr/local/lib/python3.7/dist-packages (from shap) (1.1.5)\n",
            "Requirement already satisfied: tqdm>4.25.0 in /usr/local/lib/python3.7/dist-packages (from shap) (4.41.1)\n",
            "Collecting slicer==0.0.7\n",
            "  Downloading https://files.pythonhosted.org/packages/78/c2/b3f55dfdb8af9812fdb9baf70cacf3b9e82e505b2bd4324d588888b81202/slicer-0.0.7-py3-none-any.whl\n",
            "Requirement already satisfied: numba in /usr/local/lib/python3.7/dist-packages (from shap) (0.51.2)\n",
            "Requirement already satisfied: cloudpickle in /usr/local/lib/python3.7/dist-packages (from shap) (1.3.0)\n",
            "Requirement already satisfied: joblib>=0.11 in /usr/local/lib/python3.7/dist-packages (from scikit-learn->shap) (1.0.1)\n",
            "Requirement already satisfied: python-dateutil>=2.7.3 in /usr/local/lib/python3.7/dist-packages (from pandas->shap) (2.8.1)\n",
            "Requirement already satisfied: pytz>=2017.2 in /usr/local/lib/python3.7/dist-packages (from pandas->shap) (2018.9)\n",
            "Requirement already satisfied: setuptools in /usr/local/lib/python3.7/dist-packages (from numba->shap) (56.0.0)\n",
            "Requirement already satisfied: llvmlite<0.35,>=0.34.0.dev0 in /usr/local/lib/python3.7/dist-packages (from numba->shap) (0.34.0)\n",
            "Requirement already satisfied: six>=1.5 in /usr/local/lib/python3.7/dist-packages (from python-dateutil>=2.7.3->pandas->shap) (1.15.0)\n",
            "Building wheels for collected packages: shap\n",
            "  Building wheel for shap (setup.py) ... \u001b[?25l\u001b[?25hdone\n",
            "  Created wheel for shap: filename=shap-0.39.0-cp37-cp37m-linux_x86_64.whl size=491630 sha256=8e1ee72191d7a1636b89b47f0502e90a24e0e4f6ac21e63103c2be18f54762a9\n",
            "  Stored in directory: /root/.cache/pip/wheels/15/27/f5/a8ab9da52fd159aae6477b5ede6eaaec69fd130fa0fa59f283\n",
            "Successfully built shap\n",
            "Installing collected packages: slicer, shap\n",
            "Successfully installed shap-0.39.0 slicer-0.0.7\n"
          ],
          "name": "stdout"
        }
      ]
    },
    {
      "cell_type": "code",
      "metadata": {
        "colab": {
          "base_uri": "https://localhost:8080/"
        },
        "id": "-fOlpyv9Spzu",
        "outputId": "0f243c01-ecee-4194-8c71-9a30edf7970c"
      },
      "source": [
        "explainer = shap.TreeExplainer(best_lgbm_reg)\n",
        "shap_values = explainer.shap_values(test_cbe)\n",
        "print(shap_values)"
      ],
      "execution_count": null,
      "outputs": [
        {
          "output_type": "stream",
          "text": [
            "[[ 14788.18429795  24825.40073017 -17308.60514861 ...  -2381.6792384\n",
            "    -101.93093932   -748.65682123]\n",
            " [ 18546.35124824  27280.57485462  -1868.86578815 ...  -2658.71306596\n",
            "    -727.73322834   -311.10006452]\n",
            " [ 32768.56804111  31570.7803186   39978.26540313 ...    340.35862229\n",
            "   -1409.02416037   -227.87711933]\n",
            " ...\n",
            " [  -621.98184516  -3113.25390417   1605.7493677  ...    -85.40419241\n",
            "     135.27340872    426.43454806]\n",
            " [  -666.69066725  -2945.48104078   1581.2657652  ...   -123.79420829\n",
            "     134.01382241    425.69707863]\n",
            " [   727.64307015   2351.46325018   1979.80208876 ...    821.29790799\n",
            "     133.12258368    423.5019585 ]]\n"
          ],
          "name": "stdout"
        }
      ]
    },
    {
      "cell_type": "code",
      "metadata": {
        "colab": {
          "base_uri": "https://localhost:8080/",
          "height": 324
        },
        "id": "2etEx_NnSs1L",
        "outputId": "7ca30671-819c-4920-f70a-2c69db4cabb1"
      },
      "source": [
        "shap.summary_plot(shap_values, test_cbe)"
      ],
      "execution_count": null,
      "outputs": [
        {
          "output_type": "display_data",
          "data": {
            "image/png": "[encoded data removed]",
            "text/plain": [
              "<Figure size 576x338.4 with 2 Axes>"
            ]
          },
          "metadata": {
            "tags": [],
            "needs_background": "light"
          }
        }
      ]
    },
    {
      "cell_type": "code",
      "metadata": {
        "colab": {
          "base_uri": "https://localhost:8080/",
          "height": 320
        },
        "id": "iFH6shQRSs60",
        "outputId": "380ec908-ede7-4dd2-bc1a-889442586639"
      },
      "source": [
        "shap.summary_plot(shap_values, test_cbe, plot_type = \"bar\")"
      ],
      "execution_count": null,
      "outputs": [
        {
          "output_type": "display_data",
          "data": {
            "image/png": "[encoded data removed]",
            "text/plain": [
              "<Figure size 576x338.4 with 1 Axes>"
            ]
          },
          "metadata": {
            "tags": [],
            "needs_background": "light"
          }
        }
      ]
    },
    {
      "cell_type": "code",
      "metadata": {
        "colab": {
          "base_uri": "https://localhost:8080/",
          "height": 89
        },
        "id": "2emTwtS-Svv0",
        "outputId": "102a4d03-109a-41a5-bff6-bd0893143961"
      },
      "source": [
        "'''SHAP value는 Feature importance의 한계를 어느정도 극복할 수 있는 지표인 것 같은데, 실제 값과 예측 값의 평균적인 차이를 보여주기 때문에 feature importance보다 consistency가 높다고 볼 수 있을 것 같습니다. 상단 그래프는 shap value를 보여준 것이고 아래 그래프는 shap value의 절대값으로, 변수의 중요도를 표현해보려 했습니다. shap value는 feature importance와 다르게 상관관계의 방향까지 보여줍니다. 이를 바탕으로 해석을 해보면 apt, dong, exclusive_area 등의 변수는 그 값이 커질수록 집 가격이 높아짐을 알 수 있고 sin_date, cos_date는 별 영향을 미치지 않으며 until_trans 같은 경우는 postiive나 negative하게 영향을 미치는 크기가 거의 비슷합니다. 아래는 어떤 변수가 다른 변수들보다 평균적으로 크게 영향을 미치는지를 파악하는 정도로 보면 됩니다. 역시 apt, dong, exclusive_use_area 변수가 다른 변수들보다 영향력이 큽니다.'''"
      ],
      "execution_count": null,
      "outputs": [
        {
          "output_type": "execute_result",
          "data": {
            "application/vnd.google.colaboratory.intrinsic+json": {
              "type": "string"
            },
            "text/plain": [
              "'SHAP value는 Feature importance의 한계를 어느정도 극복할 수 있는 지표인 것 같은데, 실제 값과 예측 값의 평균적인 차이를 보여주기 때문에 feature importance보다 consistency가 높다고 볼 수 있을 것 같습니다. 상단 그래프는 shap value를 보여준 것이고 아래 그래프는 shap value의 절대값으로, 변수의 중요도를 표현해보려 했습니다. shap value는 feature importance와 다르게 상관관계의 방향까지 보여줍니다. 이를 바탕으로 해석을 해보면 apt, dong, exclusive_area 등의 변수는 그 값이 커질수록 집 가격이 높아짐을 알 수 있고 sin_date, cos_date는 별 영향을 미치지 않으며 until_trans 같은 경우는 postiive나 negative하게 영향을 미치는 크기가 거의 비슷합니다. 아래는 어떤 변수가 다른 변수들보다 평균적으로 크게 영향을 미치는지를 파악하는 정도로 보면 됩니다. 역시 apt, dong, exclusive_use_area 변수가 다른 변수들보다 영향력이 큽니다.'"
            ]
          },
          "metadata": {
            "tags": []
          },
          "execution_count": 22
        }
      ]
    },
    {
      "cell_type": "code",
      "metadata": {
        "colab": {
          "base_uri": "https://localhost:8080/"
        },
        "id": "F558hYvES8D4",
        "outputId": "39e0ff98-662b-462d-8915-13269eb13df9"
      },
      "source": [
        "! pip install tensorflow\n",
        "import tensorflow as tf\n",
        "import keras\n",
        "\n",
        "from keras import models\n",
        "from keras import layers\n",
        "from keras.layers import Dense\n",
        "from keras.optimizers import Adam"
      ],
      "execution_count": null,
      "outputs": [
        {
          "output_type": "stream",
          "text": [
            "Requirement already satisfied: tensorflow in /usr/local/lib/python3.7/dist-packages (2.4.1)\n",
            "Requirement already satisfied: wheel~=0.35 in /usr/local/lib/python3.7/dist-packages (from tensorflow) (0.36.2)\n",
            "Requirement already satisfied: protobuf>=3.9.2 in /usr/local/lib/python3.7/dist-packages (from tensorflow) (3.12.4)\n",
            "Requirement already satisfied: tensorflow-estimator<2.5.0,>=2.4.0 in /usr/local/lib/python3.7/dist-packages (from tensorflow) (2.4.0)\n",
            "Requirement already satisfied: termcolor~=1.1.0 in /usr/local/lib/python3.7/dist-packages (from tensorflow) (1.1.0)\n",
            "Requirement already satisfied: absl-py~=0.10 in /usr/local/lib/python3.7/dist-packages (from tensorflow) (0.12.0)\n",
            "Requirement already satisfied: astunparse~=1.6.3 in /usr/local/lib/python3.7/dist-packages (from tensorflow) (1.6.3)\n",
            "Requirement already satisfied: six~=1.15.0 in /usr/local/lib/python3.7/dist-packages (from tensorflow) (1.15.0)\n",
            "Requirement already satisfied: grpcio~=1.32.0 in /usr/local/lib/python3.7/dist-packages (from tensorflow) (1.32.0)\n",
            "Requirement already satisfied: numpy~=1.19.2 in /usr/local/lib/python3.7/dist-packages (from tensorflow) (1.19.5)\n",
            "Requirement already satisfied: h5py~=2.10.0 in /usr/local/lib/python3.7/dist-packages (from tensorflow) (2.10.0)\n",
            "Requirement already satisfied: wrapt~=1.12.1 in /usr/local/lib/python3.7/dist-packages (from tensorflow) (1.12.1)\n",
            "Requirement already satisfied: tensorboard~=2.4 in /usr/local/lib/python3.7/dist-packages (from tensorflow) (2.4.1)\n",
            "Requirement already satisfied: opt-einsum~=3.3.0 in /usr/local/lib/python3.7/dist-packages (from tensorflow) (3.3.0)\n",
            "Requirement already satisfied: flatbuffers~=1.12.0 in /usr/local/lib/python3.7/dist-packages (from tensorflow) (1.12)\n",
            "Requirement already satisfied: gast==0.3.3 in /usr/local/lib/python3.7/dist-packages (from tensorflow) (0.3.3)\n",
            "Requirement already satisfied: typing-extensions~=3.7.4 in /usr/local/lib/python3.7/dist-packages (from tensorflow) (3.7.4.3)\n",
            "Requirement already satisfied: keras-preprocessing~=1.1.2 in /usr/local/lib/python3.7/dist-packages (from tensorflow) (1.1.2)\n",
            "Requirement already satisfied: google-pasta~=0.2 in /usr/local/lib/python3.7/dist-packages (from tensorflow) (0.2.0)\n",
            "Requirement already satisfied: setuptools in /usr/local/lib/python3.7/dist-packages (from protobuf>=3.9.2->tensorflow) (56.0.0)\n",
            "Requirement already satisfied: markdown>=2.6.8 in /usr/local/lib/python3.7/dist-packages (from tensorboard~=2.4->tensorflow) (3.3.4)\n",
            "Requirement already satisfied: google-auth-oauthlib<0.5,>=0.4.1 in /usr/local/lib/python3.7/dist-packages (from tensorboard~=2.4->tensorflow) (0.4.4)\n",
            "Requirement already satisfied: requests<3,>=2.21.0 in /usr/local/lib/python3.7/dist-packages (from tensorboard~=2.4->tensorflow) (2.23.0)\n",
            "Requirement already satisfied: werkzeug>=0.11.15 in /usr/local/lib/python3.7/dist-packages (from tensorboard~=2.4->tensorflow) (1.0.1)\n",
            "Requirement already satisfied: tensorboard-plugin-wit>=1.6.0 in /usr/local/lib/python3.7/dist-packages (from tensorboard~=2.4->tensorflow) (1.8.0)\n",
            "Requirement already satisfied: google-auth<2,>=1.6.3 in /usr/local/lib/python3.7/dist-packages (from tensorboard~=2.4->tensorflow) (1.28.1)\n",
            "Requirement already satisfied: importlib-metadata; python_version < \"3.8\" in /usr/local/lib/python3.7/dist-packages (from markdown>=2.6.8->tensorboard~=2.4->tensorflow) (3.10.1)\n",
            "Requirement already satisfied: requests-oauthlib>=0.7.0 in /usr/local/lib/python3.7/dist-packages (from google-auth-oauthlib<0.5,>=0.4.1->tensorboard~=2.4->tensorflow) (1.3.0)\n",
            "Requirement already satisfied: chardet<4,>=3.0.2 in /usr/local/lib/python3.7/dist-packages (from requests<3,>=2.21.0->tensorboard~=2.4->tensorflow) (3.0.4)\n",
            "Requirement already satisfied: idna<3,>=2.5 in /usr/local/lib/python3.7/dist-packages (from requests<3,>=2.21.0->tensorboard~=2.4->tensorflow) (2.10)\n",
            "Requirement already satisfied: certifi>=2017.4.17 in /usr/local/lib/python3.7/dist-packages (from requests<3,>=2.21.0->tensorboard~=2.4->tensorflow) (2020.12.5)\n",
            "Requirement already satisfied: urllib3!=1.25.0,!=1.25.1,<1.26,>=1.21.1 in /usr/local/lib/python3.7/dist-packages (from requests<3,>=2.21.0->tensorboard~=2.4->tensorflow) (1.24.3)\n",
            "Requirement already satisfied: rsa<5,>=3.1.4; python_version >= \"3.6\" in /usr/local/lib/python3.7/dist-packages (from google-auth<2,>=1.6.3->tensorboard~=2.4->tensorflow) (4.7.2)\n",
            "Requirement already satisfied: pyasn1-modules>=0.2.1 in /usr/local/lib/python3.7/dist-packages (from google-auth<2,>=1.6.3->tensorboard~=2.4->tensorflow) (0.2.8)\n",
            "Requirement already satisfied: cachetools<5.0,>=2.0.0 in /usr/local/lib/python3.7/dist-packages (from google-auth<2,>=1.6.3->tensorboard~=2.4->tensorflow) (4.2.1)\n",
            "Requirement already satisfied: zipp>=0.5 in /usr/local/lib/python3.7/dist-packages (from importlib-metadata; python_version < \"3.8\"->markdown>=2.6.8->tensorboard~=2.4->tensorflow) (3.4.1)\n",
            "Requirement already satisfied: oauthlib>=3.0.0 in /usr/local/lib/python3.7/dist-packages (from requests-oauthlib>=0.7.0->google-auth-oauthlib<0.5,>=0.4.1->tensorboard~=2.4->tensorflow) (3.1.0)\n",
            "Requirement already satisfied: pyasn1>=0.1.3 in /usr/local/lib/python3.7/dist-packages (from rsa<5,>=3.1.4; python_version >= \"3.6\"->google-auth<2,>=1.6.3->tensorboard~=2.4->tensorflow) (0.4.8)\n"
          ],
          "name": "stdout"
        }
      ]
    },
    {
      "cell_type": "code",
      "metadata": {
        "id": "-i9fHAzJcCcM"
      },
      "source": [
        "#@title 2.1 주어진 코드를 실행하고, 현재 신경망의 구조에 대해 간단히 설명해주세요.\n"
      ],
      "execution_count": null,
      "outputs": []
    },
    {
      "cell_type": "code",
      "metadata": {
        "id": "Bw45x2__WYH9"
      },
      "source": [
        "train = pd.read_csv(\"/content/drive/MyDrive/Colab Notebooks/train.csv\")\n",
        "train_x = train.drop(['price'], axis = 1)\n",
        "train_y = train.loc[:, ['price']]\n",
        "\n",
        "val_x = train_x[train['transaction_year'] == 4]\n",
        "val_y = train_y[train['transaction_year'] == 4]\n",
        "train_tune_x = train_x[train['transaction_year'] < 4]\n",
        "train_tune_y = train_y[train['transaction_year'] < 4]\n",
        "\n",
        "CBE_encoder = CatBoostEncoder()\n",
        "train_tune_cbe = CBE_encoder.fit_transform(train_tune_x[feature_list], train_tune_y)\n",
        "val_cbe = CBE_encoder.transform(val_x[feature_list])"
      ],
      "execution_count": null,
      "outputs": []
    },
    {
      "cell_type": "code",
      "metadata": {
        "id": "F51FcMNqTJCB"
      },
      "source": [
        "def build_model():\n",
        "  model = keras.Sequential([\n",
        "    layers.Dense(256, activation = 'relu', input_shape = [len(train_cbe.keys())]),\n",
        "    layers.Dense(64, activation = 'relu'),\n",
        "    layers.Dense(32, activation = 'relu'),\n",
        "    layers.Dense(1)\n",
        "  ])\n",
        "\n",
        "  optimizer = tf.keras.optimizers.RMSprop(0.0001)\n",
        "\n",
        "  model.compile(loss = 'mse', \n",
        "                optimizer = optimizer,\n",
        "                metrics = ['mse'])\n",
        "  return model\n",
        "\n"
      ],
      "execution_count": null,
      "outputs": []
    },
    {
      "cell_type": "code",
      "metadata": {
        "colab": {
          "base_uri": "https://localhost:8080/"
        },
        "id": "kXZW6PWNT94Y",
        "outputId": "ddadfb99-16e4-4cfa-d39a-e7e976fee6fd"
      },
      "source": [
        "model = build_model()\n",
        "model.summary()"
      ],
      "execution_count": null,
      "outputs": [
        {
          "output_type": "stream",
          "text": [
            "Model: \"sequential_4\"\n",
            "_________________________________________________________________\n",
            "Layer (type)                 Output Shape              Param #   \n",
            "=================================================================\n",
            "dense_16 (Dense)             (None, 256)               2304      \n",
            "_________________________________________________________________\n",
            "dense_17 (Dense)             (None, 64)                16448     \n",
            "_________________________________________________________________\n",
            "dense_18 (Dense)             (None, 32)                2080      \n",
            "_________________________________________________________________\n",
            "dense_19 (Dense)             (None, 1)                 33        \n",
            "=================================================================\n",
            "Total params: 20,865\n",
            "Trainable params: 20,865\n",
            "Non-trainable params: 0\n",
            "_________________________________________________________________\n"
          ],
          "name": "stdout"
        }
      ]
    },
    {
      "cell_type": "code",
      "metadata": {
        "colab": {
          "base_uri": "https://localhost:8080/",
          "height": 53
        },
        "id": "QRxXCLkCarK2",
        "outputId": "d0f68b86-1d0f-492f-b3ef-8d1e802596d1"
      },
      "source": [
        "'''Keras 라이브러리의 Sequential 모델을 사용합니다. x배열의 데이터가 8개(# of variables)이므로 입력차원을 len(train_cbe.keys()) = 8로 지정합니다. 그 다음 시퀀스 오브젝트 모델에 64개의 Node를 Dense레이어를 통해 연결해줍니다. 이후 64개 Node, 32개 Node, 1개 Node를 가진 layer를 추가해 모델을 학습합니다. 총 4개의 레이어를 가진 신경망이 만들어집니다. 모델 평가는 MSE로 하고 모델 업데이트 옵티마이저는 RMSprop을 사용합니다.'''"
      ],
      "execution_count": null,
      "outputs": [
        {
          "output_type": "execute_result",
          "data": {
            "application/vnd.google.colaboratory.intrinsic+json": {
              "type": "string"
            },
            "text/plain": [
              "'Keras 라이브러리의 Sequential 모델을 사용합니다. x배열의 데이터가 8개(# of variables)이므로 입력차원을 len(train_cbe.keys()) = 8로 지정합니다. 그 다음 시퀀스 오브젝트 모델에 64개의 Node를 Dense레이어를 통해 연결해줍니다. 이후 64개 Node, 32개 Node, 1개 Node를 가진 layer를 추가해 모델을 학습합니다. 총 4개의 레이어를 가진 신경망이 만들어집니다. 모델 평가는 MSE로 하고 모델 업데이트 옵티마이저는 RMSprop을 사용합니다.'"
            ]
          },
          "metadata": {
            "tags": []
          },
          "execution_count": 39
        }
      ]
    },
    {
      "cell_type": "code",
      "metadata": {
        "colab": {
          "base_uri": "https://localhost:8080/"
        },
        "id": "0KRZycdZVwbB",
        "outputId": "f1aa1569-fa0a-458a-ebc9-9548052d27d4"
      },
      "source": [
        "history = model.fit(train_tune_cbe, train_tune_y, epochs=300, validation_data = (val_cbe, val_y), batch_size = 512)"
      ],
      "execution_count": null,
      "outputs": [
        {
          "output_type": "stream",
          "text": [
            "Epoch 1/300\n",
            "611/611 [==============================] - 4s 6ms/step - loss: 1073999994.9281 - mse: 1073999994.9281 - val_loss: 343586016.0000 - val_mse: 343586016.0000\n",
            "Epoch 2/300\n",
            "611/611 [==============================] - 3s 5ms/step - loss: 235852517.7778 - mse: 235852517.7778 - val_loss: 347230560.0000 - val_mse: 347230560.0000\n",
            "Epoch 3/300\n",
            "611/611 [==============================] - 3s 5ms/step - loss: 239222745.5948 - mse: 239222745.5948 - val_loss: 338309280.0000 - val_mse: 338309280.0000\n",
            "Epoch 4/300\n",
            "611/611 [==============================] - 4s 6ms/step - loss: 232658495.4510 - mse: 232658495.4510 - val_loss: 334979808.0000 - val_mse: 334979808.0000\n",
            "Epoch 5/300\n",
            "611/611 [==============================] - 3s 5ms/step - loss: 233537390.4575 - mse: 233537390.4575 - val_loss: 354656160.0000 - val_mse: 354656160.0000\n",
            "Epoch 6/300\n",
            "611/611 [==============================] - 3s 6ms/step - loss: 235608808.0523 - mse: 235608808.0523 - val_loss: 331326272.0000 - val_mse: 331326272.0000\n",
            "Epoch 7/300\n",
            "611/611 [==============================] - 3s 6ms/step - loss: 233771744.3399 - mse: 233771744.3399 - val_loss: 355916352.0000 - val_mse: 355916352.0000\n",
            "Epoch 8/300\n",
            "611/611 [==============================] - 3s 5ms/step - loss: 228204425.1503 - mse: 228204425.1503 - val_loss: 331849440.0000 - val_mse: 331849440.0000\n",
            "Epoch 9/300\n",
            "611/611 [==============================] - 3s 5ms/step - loss: 215986018.7974 - mse: 215986018.7974 - val_loss: 346246912.0000 - val_mse: 346246912.0000\n",
            "Epoch 10/300\n",
            "611/611 [==============================] - 3s 5ms/step - loss: 219619865.0458 - mse: 219619865.0458 - val_loss: 365962784.0000 - val_mse: 365962784.0000\n",
            "Epoch 11/300\n",
            "611/611 [==============================] - 4s 6ms/step - loss: 231681179.5033 - mse: 231681179.5033 - val_loss: 335599040.0000 - val_mse: 335599040.0000\n",
            "Epoch 12/300\n",
            "611/611 [==============================] - 3s 5ms/step - loss: 224097582.8758 - mse: 224097582.8758 - val_loss: 338493312.0000 - val_mse: 338493312.0000\n",
            "Epoch 13/300\n",
            "611/611 [==============================] - 3s 6ms/step - loss: 231871771.3725 - mse: 231871771.3725 - val_loss: 316467168.0000 - val_mse: 316467168.0000\n",
            "Epoch 14/300\n",
            "611/611 [==============================] - 3s 5ms/step - loss: 227104680.7843 - mse: 227104680.7843 - val_loss: 355125568.0000 - val_mse: 355125568.0000\n",
            "Epoch 15/300\n",
            "611/611 [==============================] - 3s 5ms/step - loss: 224195081.0458 - mse: 224195081.0458 - val_loss: 339386176.0000 - val_mse: 339386176.0000\n",
            "Epoch 16/300\n",
            "611/611 [==============================] - 3s 5ms/step - loss: 224639465.1765 - mse: 224639465.1765 - val_loss: 326262816.0000 - val_mse: 326262816.0000\n",
            "Epoch 17/300\n",
            "611/611 [==============================] - 3s 6ms/step - loss: 227470511.3987 - mse: 227470511.3987 - val_loss: 310909664.0000 - val_mse: 310909664.0000\n",
            "Epoch 18/300\n",
            "611/611 [==============================] - 4s 6ms/step - loss: 220546721.9608 - mse: 220546721.9608 - val_loss: 320299648.0000 - val_mse: 320299648.0000\n",
            "Epoch 19/300\n",
            "611/611 [==============================] - 4s 6ms/step - loss: 218597507.7647 - mse: 218597507.7647 - val_loss: 336163712.0000 - val_mse: 336163712.0000\n",
            "Epoch 20/300\n",
            "611/611 [==============================] - 3s 5ms/step - loss: 221931942.2222 - mse: 221931942.2222 - val_loss: 324172512.0000 - val_mse: 324172512.0000\n",
            "Epoch 21/300\n",
            "611/611 [==============================] - 3s 5ms/step - loss: 219346171.3464 - mse: 219346171.3464 - val_loss: 331260320.0000 - val_mse: 331260320.0000\n",
            "Epoch 22/300\n",
            "611/611 [==============================] - 3s 5ms/step - loss: 217682734.3791 - mse: 217682734.3791 - val_loss: 335521536.0000 - val_mse: 335521536.0000\n",
            "Epoch 23/300\n",
            "611/611 [==============================] - 3s 5ms/step - loss: 221214565.3072 - mse: 221214565.3072 - val_loss: 338013024.0000 - val_mse: 338013024.0000\n",
            "Epoch 24/300\n",
            "611/611 [==============================] - 3s 6ms/step - loss: 228324571.6078 - mse: 228324571.6078 - val_loss: 325123392.0000 - val_mse: 325123392.0000\n",
            "Epoch 25/300\n",
            "611/611 [==============================] - 3s 5ms/step - loss: 214972392.6275 - mse: 214972392.6275 - val_loss: 317536160.0000 - val_mse: 317536160.0000\n",
            "Epoch 26/300\n",
            "611/611 [==============================] - 3s 5ms/step - loss: 210855663.3464 - mse: 210855663.3464 - val_loss: 302381536.0000 - val_mse: 302381536.0000\n",
            "Epoch 27/300\n",
            "611/611 [==============================] - 3s 6ms/step - loss: 219986662.1699 - mse: 219986662.1699 - val_loss: 301230528.0000 - val_mse: 301230528.0000\n",
            "Epoch 28/300\n",
            "611/611 [==============================] - 3s 5ms/step - loss: 210865977.8301 - mse: 210865977.8301 - val_loss: 321488416.0000 - val_mse: 321488416.0000\n",
            "Epoch 29/300\n",
            "611/611 [==============================] - 3s 5ms/step - loss: 209746096.3399 - mse: 209746096.3399 - val_loss: 333890880.0000 - val_mse: 333890880.0000\n",
            "Epoch 30/300\n",
            "611/611 [==============================] - 3s 5ms/step - loss: 219102113.7778 - mse: 219102113.7778 - val_loss: 318415904.0000 - val_mse: 318415904.0000\n",
            "Epoch 31/300\n",
            "611/611 [==============================] - 3s 5ms/step - loss: 207205933.9608 - mse: 207205933.9608 - val_loss: 306871072.0000 - val_mse: 306871072.0000\n",
            "Epoch 32/300\n",
            "611/611 [==============================] - 4s 6ms/step - loss: 205033625.0719 - mse: 205033625.0719 - val_loss: 317041152.0000 - val_mse: 317041152.0000\n",
            "Epoch 33/300\n",
            "611/611 [==============================] - 4s 6ms/step - loss: 210052020.2484 - mse: 210052020.2484 - val_loss: 318828256.0000 - val_mse: 318828256.0000\n",
            "Epoch 34/300\n",
            "611/611 [==============================] - 3s 6ms/step - loss: 200764182.9281 - mse: 200764182.9281 - val_loss: 341291776.0000 - val_mse: 341291776.0000\n",
            "Epoch 35/300\n",
            "611/611 [==============================] - 3s 5ms/step - loss: 202148461.9869 - mse: 202148461.9869 - val_loss: 303039488.0000 - val_mse: 303039488.0000\n",
            "Epoch 36/300\n",
            "611/611 [==============================] - 3s 5ms/step - loss: 196541490.3007 - mse: 196541490.3007 - val_loss: 329710720.0000 - val_mse: 329710720.0000\n",
            "Epoch 37/300\n",
            "611/611 [==============================] - 3s 5ms/step - loss: 205203601.7255 - mse: 205203601.7255 - val_loss: 309503040.0000 - val_mse: 309503040.0000\n",
            "Epoch 38/300\n",
            "611/611 [==============================] - 3s 5ms/step - loss: 199670165.1503 - mse: 199670165.1503 - val_loss: 304632992.0000 - val_mse: 304632992.0000\n",
            "Epoch 39/300\n",
            "611/611 [==============================] - 4s 6ms/step - loss: 196819399.6863 - mse: 196819399.6863 - val_loss: 310436832.0000 - val_mse: 310436832.0000\n",
            "Epoch 40/300\n",
            "611/611 [==============================] - 4s 6ms/step - loss: 198469719.5163 - mse: 198469719.5163 - val_loss: 277424864.0000 - val_mse: 277424864.0000\n",
            "Epoch 41/300\n",
            "611/611 [==============================] - 4s 6ms/step - loss: 196421398.4052 - mse: 196421398.4052 - val_loss: 367146752.0000 - val_mse: 367146752.0000\n",
            "Epoch 42/300\n",
            "611/611 [==============================] - 3s 6ms/step - loss: 192240636.2614 - mse: 192240636.2614 - val_loss: 324830112.0000 - val_mse: 324830112.0000\n",
            "Epoch 43/300\n",
            "611/611 [==============================] - 4s 6ms/step - loss: 198054054.8235 - mse: 198054054.8235 - val_loss: 314584448.0000 - val_mse: 314584448.0000\n",
            "Epoch 44/300\n",
            "611/611 [==============================] - 3s 5ms/step - loss: 192448665.1242 - mse: 192448665.1242 - val_loss: 340368736.0000 - val_mse: 340368736.0000\n",
            "Epoch 45/300\n",
            "611/611 [==============================] - 3s 5ms/step - loss: 192073508.0784 - mse: 192073508.0784 - val_loss: 381435744.0000 - val_mse: 381435744.0000\n",
            "Epoch 46/300\n",
            "611/611 [==============================] - 3s 5ms/step - loss: 193200986.3007 - mse: 193200986.3007 - val_loss: 285972512.0000 - val_mse: 285972512.0000\n",
            "Epoch 47/300\n",
            "611/611 [==============================] - 3s 5ms/step - loss: 188246044.9673 - mse: 188246044.9673 - val_loss: 303139776.0000 - val_mse: 303139776.0000\n",
            "Epoch 48/300\n",
            "611/611 [==============================] - 3s 5ms/step - loss: 195561440.0784 - mse: 195561440.0784 - val_loss: 267284288.0000 - val_mse: 267284288.0000\n",
            "Epoch 49/300\n",
            "611/611 [==============================] - 3s 5ms/step - loss: 202295785.6209 - mse: 202295785.6209 - val_loss: 283185344.0000 - val_mse: 283185344.0000\n",
            "Epoch 50/300\n",
            "611/611 [==============================] - 3s 6ms/step - loss: 198452979.8170 - mse: 198452979.8170 - val_loss: 289178208.0000 - val_mse: 289178208.0000\n",
            "Epoch 51/300\n",
            "611/611 [==============================] - 3s 5ms/step - loss: 195959751.7386 - mse: 195959751.7386 - val_loss: 343740032.0000 - val_mse: 343740032.0000\n",
            "Epoch 52/300\n",
            "611/611 [==============================] - 3s 5ms/step - loss: 196990336.9935 - mse: 196990336.9935 - val_loss: 361801984.0000 - val_mse: 361801984.0000\n",
            "Epoch 53/300\n",
            "611/611 [==============================] - 4s 6ms/step - loss: 198144634.3529 - mse: 198144634.3529 - val_loss: 287264960.0000 - val_mse: 287264960.0000\n",
            "Epoch 54/300\n",
            "611/611 [==============================] - 3s 5ms/step - loss: 195333063.9477 - mse: 195333063.9477 - val_loss: 346531200.0000 - val_mse: 346531200.0000\n",
            "Epoch 55/300\n",
            "611/611 [==============================] - 3s 5ms/step - loss: 191375004.7059 - mse: 191375004.7059 - val_loss: 290507904.0000 - val_mse: 290507904.0000\n",
            "Epoch 56/300\n",
            "611/611 [==============================] - 3s 5ms/step - loss: 185809916.9412 - mse: 185809916.9412 - val_loss: 300561312.0000 - val_mse: 300561312.0000\n",
            "Epoch 57/300\n",
            "611/611 [==============================] - 3s 5ms/step - loss: 192714365.0980 - mse: 192714365.0980 - val_loss: 269245728.0000 - val_mse: 269245728.0000\n",
            "Epoch 58/300\n",
            "611/611 [==============================] - 3s 5ms/step - loss: 186157210.0392 - mse: 186157210.0392 - val_loss: 335083168.0000 - val_mse: 335083168.0000\n",
            "Epoch 59/300\n",
            "611/611 [==============================] - 3s 5ms/step - loss: 190543041.6601 - mse: 190543041.6601 - val_loss: 303555168.0000 - val_mse: 303555168.0000\n",
            "Epoch 60/300\n",
            "611/611 [==============================] - 3s 5ms/step - loss: 195249478.4837 - mse: 195249478.4837 - val_loss: 386322720.0000 - val_mse: 386322720.0000\n",
            "Epoch 61/300\n",
            "611/611 [==============================] - 3s 5ms/step - loss: 192799192.0523 - mse: 192799192.0523 - val_loss: 378443968.0000 - val_mse: 378443968.0000\n",
            "Epoch 62/300\n",
            "611/611 [==============================] - 3s 5ms/step - loss: 197833587.9477 - mse: 197833587.9477 - val_loss: 338653920.0000 - val_mse: 338653920.0000\n",
            "Epoch 63/300\n",
            "611/611 [==============================] - 3s 5ms/step - loss: 189865200.3137 - mse: 189865200.3137 - val_loss: 362813920.0000 - val_mse: 362813920.0000\n",
            "Epoch 64/300\n",
            "611/611 [==============================] - 3s 6ms/step - loss: 185363304.7843 - mse: 185363304.7843 - val_loss: 274466848.0000 - val_mse: 274466848.0000\n",
            "Epoch 65/300\n",
            "611/611 [==============================] - 3s 5ms/step - loss: 188218587.2418 - mse: 188218587.2418 - val_loss: 265684064.0000 - val_mse: 265684064.0000\n",
            "Epoch 66/300\n",
            "611/611 [==============================] - 3s 5ms/step - loss: 189326116.9412 - mse: 189326116.9412 - val_loss: 348622784.0000 - val_mse: 348622784.0000\n",
            "Epoch 67/300\n",
            "611/611 [==============================] - 3s 5ms/step - loss: 183192763.2680 - mse: 183192763.2680 - val_loss: 313772416.0000 - val_mse: 313772416.0000\n",
            "Epoch 68/300\n",
            "611/611 [==============================] - 3s 5ms/step - loss: 190140925.9346 - mse: 190140925.9346 - val_loss: 337562976.0000 - val_mse: 337562976.0000\n",
            "Epoch 69/300\n",
            "611/611 [==============================] - 3s 5ms/step - loss: 183800022.1438 - mse: 183800022.1438 - val_loss: 302137408.0000 - val_mse: 302137408.0000\n",
            "Epoch 70/300\n",
            "611/611 [==============================] - 3s 5ms/step - loss: 190629477.8562 - mse: 190629477.8562 - val_loss: 339005952.0000 - val_mse: 339005952.0000\n",
            "Epoch 71/300\n",
            "611/611 [==============================] - 3s 5ms/step - loss: 182808716.0261 - mse: 182808716.0261 - val_loss: 269703616.0000 - val_mse: 269703616.0000\n",
            "Epoch 72/300\n",
            "611/611 [==============================] - 3s 5ms/step - loss: 188311763.8431 - mse: 188311763.8431 - val_loss: 302987200.0000 - val_mse: 302987200.0000\n",
            "Epoch 73/300\n",
            "611/611 [==============================] - 3s 5ms/step - loss: 176462976.5229 - mse: 176462976.5229 - val_loss: 251466496.0000 - val_mse: 251466496.0000\n",
            "Epoch 74/300\n",
            "611/611 [==============================] - 3s 5ms/step - loss: 188924132.1830 - mse: 188924132.1830 - val_loss: 356824128.0000 - val_mse: 356824128.0000\n",
            "Epoch 75/300\n",
            "611/611 [==============================] - 3s 6ms/step - loss: 193962346.9542 - mse: 193962346.9542 - val_loss: 344556000.0000 - val_mse: 344556000.0000\n",
            "Epoch 76/300\n",
            "611/611 [==============================] - 3s 5ms/step - loss: 188578463.9477 - mse: 188578463.9477 - val_loss: 318618784.0000 - val_mse: 318618784.0000\n",
            "Epoch 77/300\n",
            "611/611 [==============================] - 3s 5ms/step - loss: 190878390.6536 - mse: 190878390.6536 - val_loss: 259980592.0000 - val_mse: 259980592.0000\n",
            "Epoch 78/300\n",
            "611/611 [==============================] - 3s 5ms/step - loss: 182082599.1895 - mse: 182082599.1895 - val_loss: 316747200.0000 - val_mse: 316747200.0000\n",
            "Epoch 79/300\n",
            "611/611 [==============================] - 3s 5ms/step - loss: 188970768.6536 - mse: 188970768.6536 - val_loss: 298388704.0000 - val_mse: 298388704.0000\n",
            "Epoch 80/300\n",
            "611/611 [==============================] - 3s 5ms/step - loss: 185015943.9869 - mse: 185015943.9869 - val_loss: 269894976.0000 - val_mse: 269894976.0000\n",
            "Epoch 81/300\n",
            "611/611 [==============================] - 3s 5ms/step - loss: 189465897.0719 - mse: 189465897.0719 - val_loss: 335164768.0000 - val_mse: 335164768.0000\n",
            "Epoch 82/300\n",
            "611/611 [==============================] - 3s 5ms/step - loss: 191497844.5229 - mse: 191497844.5229 - val_loss: 330678080.0000 - val_mse: 330678080.0000\n",
            "Epoch 83/300\n",
            "611/611 [==============================] - 3s 5ms/step - loss: 187683629.6209 - mse: 187683629.6209 - val_loss: 364760384.0000 - val_mse: 364760384.0000\n",
            "Epoch 84/300\n",
            "611/611 [==============================] - 3s 5ms/step - loss: 177003656.7320 - mse: 177003656.7320 - val_loss: 301636512.0000 - val_mse: 301636512.0000\n",
            "Epoch 85/300\n",
            "611/611 [==============================] - 3s 5ms/step - loss: 185584791.0980 - mse: 185584791.0980 - val_loss: 256964816.0000 - val_mse: 256964816.0000\n",
            "Epoch 86/300\n",
            "611/611 [==============================] - 3s 5ms/step - loss: 187153028.0523 - mse: 187153028.0523 - val_loss: 248375648.0000 - val_mse: 248375648.0000\n",
            "Epoch 87/300\n",
            "611/611 [==============================] - 3s 5ms/step - loss: 183545488.2353 - mse: 183545488.2353 - val_loss: 341412448.0000 - val_mse: 341412448.0000\n",
            "Epoch 88/300\n",
            "611/611 [==============================] - 3s 5ms/step - loss: 184699812.3137 - mse: 184699812.3137 - val_loss: 274639040.0000 - val_mse: 274639040.0000\n",
            "Epoch 89/300\n",
            "611/611 [==============================] - 3s 5ms/step - loss: 182438310.3268 - mse: 182438310.3268 - val_loss: 264092608.0000 - val_mse: 264092608.0000\n",
            "Epoch 90/300\n",
            "611/611 [==============================] - 3s 5ms/step - loss: 183244759.7908 - mse: 183244759.7908 - val_loss: 261395536.0000 - val_mse: 261395536.0000\n",
            "Epoch 91/300\n",
            "611/611 [==============================] - 3s 5ms/step - loss: 179300166.1699 - mse: 179300166.1699 - val_loss: 302726112.0000 - val_mse: 302726112.0000\n",
            "Epoch 92/300\n",
            "611/611 [==============================] - 3s 5ms/step - loss: 182703943.5817 - mse: 182703943.5817 - val_loss: 291263392.0000 - val_mse: 291263392.0000\n",
            "Epoch 93/300\n",
            "611/611 [==============================] - 3s 5ms/step - loss: 192144449.9085 - mse: 192144449.9085 - val_loss: 249123280.0000 - val_mse: 249123280.0000\n",
            "Epoch 94/300\n",
            "611/611 [==============================] - 3s 5ms/step - loss: 187145177.2810 - mse: 187145177.2810 - val_loss: 292576320.0000 - val_mse: 292576320.0000\n",
            "Epoch 95/300\n",
            "611/611 [==============================] - 3s 5ms/step - loss: 176486769.6209 - mse: 176486769.6209 - val_loss: 271837440.0000 - val_mse: 271837440.0000\n",
            "Epoch 96/300\n",
            "611/611 [==============================] - 3s 5ms/step - loss: 186703684.0261 - mse: 186703684.0261 - val_loss: 360493152.0000 - val_mse: 360493152.0000\n",
            "Epoch 97/300\n",
            "611/611 [==============================] - 3s 5ms/step - loss: 186380607.4248 - mse: 186380607.4248 - val_loss: 355587008.0000 - val_mse: 355587008.0000\n",
            "Epoch 98/300\n",
            "611/611 [==============================] - 3s 5ms/step - loss: 185754510.4706 - mse: 185754510.4706 - val_loss: 282604544.0000 - val_mse: 282604544.0000\n",
            "Epoch 99/300\n",
            "611/611 [==============================] - 3s 5ms/step - loss: 181874962.3007 - mse: 181874962.3007 - val_loss: 318105952.0000 - val_mse: 318105952.0000\n",
            "Epoch 100/300\n",
            "611/611 [==============================] - 3s 5ms/step - loss: 180923422.3007 - mse: 180923422.3007 - val_loss: 339012928.0000 - val_mse: 339012928.0000\n",
            "Epoch 101/300\n",
            "611/611 [==============================] - 3s 5ms/step - loss: 186327360.5752 - mse: 186327360.5752 - val_loss: 284427264.0000 - val_mse: 284427264.0000\n",
            "Epoch 102/300\n",
            "611/611 [==============================] - 3s 5ms/step - loss: 183146079.3464 - mse: 183146079.3464 - val_loss: 328149856.0000 - val_mse: 328149856.0000\n",
            "Epoch 103/300\n",
            "611/611 [==============================] - 3s 5ms/step - loss: 184652633.4379 - mse: 184652633.4379 - val_loss: 394260032.0000 - val_mse: 394260032.0000\n",
            "Epoch 104/300\n",
            "611/611 [==============================] - 3s 5ms/step - loss: 185265394.4444 - mse: 185265394.4444 - val_loss: 274224928.0000 - val_mse: 274224928.0000\n",
            "Epoch 105/300\n",
            "611/611 [==============================] - 3s 5ms/step - loss: 181823324.3137 - mse: 181823324.3137 - val_loss: 274252064.0000 - val_mse: 274252064.0000\n",
            "Epoch 106/300\n",
            "611/611 [==============================] - 3s 5ms/step - loss: 178051970.3007 - mse: 178051970.3007 - val_loss: 380485248.0000 - val_mse: 380485248.0000\n",
            "Epoch 107/300\n",
            "611/611 [==============================] - 3s 5ms/step - loss: 177189539.2549 - mse: 177189539.2549 - val_loss: 351976896.0000 - val_mse: 351976896.0000\n",
            "Epoch 108/300\n",
            "611/611 [==============================] - 3s 5ms/step - loss: 177173593.9869 - mse: 177173593.9869 - val_loss: 294249984.0000 - val_mse: 294249984.0000\n",
            "Epoch 109/300\n",
            "611/611 [==============================] - 3s 5ms/step - loss: 181351111.9477 - mse: 181351111.9477 - val_loss: 302021984.0000 - val_mse: 302021984.0000\n",
            "Epoch 110/300\n",
            "611/611 [==============================] - 3s 5ms/step - loss: 185632513.5686 - mse: 185632513.5686 - val_loss: 355889312.0000 - val_mse: 355889312.0000\n",
            "Epoch 111/300\n",
            "611/611 [==============================] - 3s 5ms/step - loss: 183271730.2484 - mse: 183271730.2484 - val_loss: 301006496.0000 - val_mse: 301006496.0000\n",
            "Epoch 112/300\n",
            "611/611 [==============================] - 3s 5ms/step - loss: 179437212.1307 - mse: 179437212.1307 - val_loss: 382664256.0000 - val_mse: 382664256.0000\n",
            "Epoch 113/300\n",
            "611/611 [==============================] - 3s 5ms/step - loss: 179459667.3725 - mse: 179459667.3725 - val_loss: 331758976.0000 - val_mse: 331758976.0000\n",
            "Epoch 114/300\n",
            "611/611 [==============================] - 3s 5ms/step - loss: 182578002.5882 - mse: 182578002.5882 - val_loss: 304197664.0000 - val_mse: 304197664.0000\n",
            "Epoch 115/300\n",
            "611/611 [==============================] - 3s 5ms/step - loss: 179291483.0327 - mse: 179291483.0327 - val_loss: 267001584.0000 - val_mse: 267001584.0000\n",
            "Epoch 116/300\n",
            "611/611 [==============================] - 3s 5ms/step - loss: 185539457.5163 - mse: 185539457.5163 - val_loss: 271576864.0000 - val_mse: 271576864.0000\n",
            "Epoch 117/300\n",
            "611/611 [==============================] - 3s 5ms/step - loss: 186152939.1111 - mse: 186152939.1111 - val_loss: 240380496.0000 - val_mse: 240380496.0000\n",
            "Epoch 118/300\n",
            "611/611 [==============================] - 3s 5ms/step - loss: 180835863.1634 - mse: 180835863.1634 - val_loss: 240847600.0000 - val_mse: 240847600.0000\n",
            "Epoch 119/300\n",
            "611/611 [==============================] - 3s 5ms/step - loss: 184810996.0784 - mse: 184810996.0784 - val_loss: 317668800.0000 - val_mse: 317668800.0000\n",
            "Epoch 120/300\n",
            "611/611 [==============================] - 3s 5ms/step - loss: 181317361.1503 - mse: 181317361.1503 - val_loss: 332450336.0000 - val_mse: 332450336.0000\n",
            "Epoch 121/300\n",
            "611/611 [==============================] - 3s 5ms/step - loss: 180182916.2876 - mse: 180182916.2876 - val_loss: 280585248.0000 - val_mse: 280585248.0000\n",
            "Epoch 122/300\n",
            "611/611 [==============================] - 3s 5ms/step - loss: 180017740.7582 - mse: 180017740.7582 - val_loss: 364219904.0000 - val_mse: 364219904.0000\n",
            "Epoch 123/300\n",
            "611/611 [==============================] - 3s 5ms/step - loss: 183435021.2810 - mse: 183435021.2810 - val_loss: 284637728.0000 - val_mse: 284637728.0000\n",
            "Epoch 124/300\n",
            "611/611 [==============================] - 3s 5ms/step - loss: 177847517.9085 - mse: 177847517.9085 - val_loss: 260499392.0000 - val_mse: 260499392.0000\n",
            "Epoch 125/300\n",
            "611/611 [==============================] - 3s 5ms/step - loss: 180458762.5098 - mse: 180458762.5098 - val_loss: 366935328.0000 - val_mse: 366935328.0000\n",
            "Epoch 126/300\n",
            "611/611 [==============================] - 3s 5ms/step - loss: 174100882.2484 - mse: 174100882.2484 - val_loss: 283367104.0000 - val_mse: 283367104.0000\n",
            "Epoch 127/300\n",
            "611/611 [==============================] - 3s 5ms/step - loss: 172967545.3725 - mse: 172967545.3725 - val_loss: 367293024.0000 - val_mse: 367293024.0000\n",
            "Epoch 128/300\n",
            "611/611 [==============================] - 3s 5ms/step - loss: 183926133.6732 - mse: 183926133.6732 - val_loss: 303896320.0000 - val_mse: 303896320.0000\n",
            "Epoch 129/300\n",
            "611/611 [==============================] - 3s 5ms/step - loss: 183140229.9739 - mse: 183140229.9739 - val_loss: 239648272.0000 - val_mse: 239648272.0000\n",
            "Epoch 130/300\n",
            "611/611 [==============================] - 3s 5ms/step - loss: 173691409.8824 - mse: 173691409.8824 - val_loss: 261195712.0000 - val_mse: 261195712.0000\n",
            "Epoch 131/300\n",
            "611/611 [==============================] - 3s 6ms/step - loss: 185531794.2222 - mse: 185531794.2222 - val_loss: 280512928.0000 - val_mse: 280512928.0000\n",
            "Epoch 132/300\n",
            "611/611 [==============================] - 3s 5ms/step - loss: 181378250.6144 - mse: 181378250.6144 - val_loss: 243085552.0000 - val_mse: 243085552.0000\n",
            "Epoch 133/300\n",
            "611/611 [==============================] - 3s 5ms/step - loss: 181282931.6863 - mse: 181282931.6863 - val_loss: 313047008.0000 - val_mse: 313047008.0000\n",
            "Epoch 134/300\n",
            "611/611 [==============================] - 3s 5ms/step - loss: 178568567.7647 - mse: 178568567.7647 - val_loss: 330215520.0000 - val_mse: 330215520.0000\n",
            "Epoch 135/300\n",
            "611/611 [==============================] - 3s 6ms/step - loss: 184237747.8301 - mse: 184237747.8301 - val_loss: 305628608.0000 - val_mse: 305628608.0000\n",
            "Epoch 136/300\n",
            "611/611 [==============================] - 3s 6ms/step - loss: 181280500.0000 - mse: 181280500.0000 - val_loss: 272259104.0000 - val_mse: 272259104.0000\n",
            "Epoch 137/300\n",
            "611/611 [==============================] - 3s 5ms/step - loss: 179964636.1830 - mse: 179964636.1830 - val_loss: 311927488.0000 - val_mse: 311927488.0000\n",
            "Epoch 138/300\n",
            "611/611 [==============================] - 3s 6ms/step - loss: 186804402.2222 - mse: 186804402.2222 - val_loss: 333986816.0000 - val_mse: 333986816.0000\n",
            "Epoch 139/300\n",
            "611/611 [==============================] - 3s 5ms/step - loss: 171300015.7647 - mse: 171300015.7647 - val_loss: 359563392.0000 - val_mse: 359563392.0000\n",
            "Epoch 140/300\n",
            "611/611 [==============================] - 3s 5ms/step - loss: 180237668.1046 - mse: 180237668.1046 - val_loss: 318353312.0000 - val_mse: 318353312.0000\n",
            "Epoch 141/300\n",
            "611/611 [==============================] - 3s 5ms/step - loss: 175883038.0654 - mse: 175883038.0654 - val_loss: 278359072.0000 - val_mse: 278359072.0000\n",
            "Epoch 142/300\n",
            "611/611 [==============================] - 3s 5ms/step - loss: 174107025.8431 - mse: 174107025.8431 - val_loss: 318345472.0000 - val_mse: 318345472.0000\n",
            "Epoch 143/300\n",
            "611/611 [==============================] - 3s 5ms/step - loss: 185314997.7516 - mse: 185314997.7516 - val_loss: 268583648.0000 - val_mse: 268583648.0000\n",
            "Epoch 144/300\n",
            "611/611 [==============================] - 3s 5ms/step - loss: 175979247.6993 - mse: 175979247.6993 - val_loss: 290638080.0000 - val_mse: 290638080.0000\n",
            "Epoch 145/300\n",
            "611/611 [==============================] - 3s 5ms/step - loss: 174824782.8235 - mse: 174824782.8235 - val_loss: 269058368.0000 - val_mse: 269058368.0000\n",
            "Epoch 146/300\n",
            "611/611 [==============================] - 3s 5ms/step - loss: 182591312.2353 - mse: 182591312.2353 - val_loss: 425480320.0000 - val_mse: 425480320.0000\n",
            "Epoch 147/300\n",
            "611/611 [==============================] - 3s 5ms/step - loss: 176376365.5948 - mse: 176376365.5948 - val_loss: 240006080.0000 - val_mse: 240006080.0000\n",
            "Epoch 148/300\n",
            "611/611 [==============================] - 3s 5ms/step - loss: 174461213.8824 - mse: 174461213.8824 - val_loss: 315472672.0000 - val_mse: 315472672.0000\n",
            "Epoch 149/300\n",
            "611/611 [==============================] - 3s 5ms/step - loss: 184773038.8758 - mse: 184773038.8758 - val_loss: 284293856.0000 - val_mse: 284293856.0000\n",
            "Epoch 150/300\n",
            "611/611 [==============================] - 3s 5ms/step - loss: 180614824.6536 - mse: 180614824.6536 - val_loss: 313242304.0000 - val_mse: 313242304.0000\n",
            "Epoch 151/300\n",
            "611/611 [==============================] - 3s 5ms/step - loss: 175875495.7778 - mse: 175875495.7778 - val_loss: 252009008.0000 - val_mse: 252009008.0000\n",
            "Epoch 152/300\n",
            "611/611 [==============================] - 3s 5ms/step - loss: 172028973.3464 - mse: 172028973.3464 - val_loss: 322298080.0000 - val_mse: 322298080.0000\n",
            "Epoch 153/300\n",
            "611/611 [==============================] - 3s 5ms/step - loss: 176139535.7908 - mse: 176139535.7908 - val_loss: 380446336.0000 - val_mse: 380446336.0000\n",
            "Epoch 154/300\n",
            "611/611 [==============================] - 3s 5ms/step - loss: 178541423.3464 - mse: 178541423.3464 - val_loss: 315701440.0000 - val_mse: 315701440.0000\n",
            "Epoch 155/300\n",
            "611/611 [==============================] - 3s 6ms/step - loss: 171819631.5033 - mse: 171819631.5033 - val_loss: 262602720.0000 - val_mse: 262602720.0000\n",
            "Epoch 156/300\n",
            "611/611 [==============================] - 4s 6ms/step - loss: 172143128.4183 - mse: 172143128.4183 - val_loss: 259630320.0000 - val_mse: 259630320.0000\n",
            "Epoch 157/300\n",
            "611/611 [==============================] - 3s 5ms/step - loss: 175048117.7778 - mse: 175048117.7778 - val_loss: 293567008.0000 - val_mse: 293567008.0000\n",
            "Epoch 158/300\n",
            "611/611 [==============================] - 3s 5ms/step - loss: 176498347.8954 - mse: 176498347.8954 - val_loss: 304106720.0000 - val_mse: 304106720.0000\n",
            "Epoch 159/300\n",
            "611/611 [==============================] - 3s 5ms/step - loss: 174586422.9412 - mse: 174586422.9412 - val_loss: 253443760.0000 - val_mse: 253443760.0000\n",
            "Epoch 160/300\n",
            "611/611 [==============================] - 3s 6ms/step - loss: 174119600.8105 - mse: 174119600.8105 - val_loss: 290275360.0000 - val_mse: 290275360.0000\n",
            "Epoch 161/300\n",
            "611/611 [==============================] - 3s 5ms/step - loss: 177306320.3922 - mse: 177306320.3922 - val_loss: 255231936.0000 - val_mse: 255231936.0000\n",
            "Epoch 162/300\n",
            "611/611 [==============================] - 3s 6ms/step - loss: 182293210.7451 - mse: 182293210.7451 - val_loss: 236558864.0000 - val_mse: 236558864.0000\n",
            "Epoch 163/300\n",
            "611/611 [==============================] - 3s 5ms/step - loss: 176332592.4967 - mse: 176332592.4967 - val_loss: 240299744.0000 - val_mse: 240299744.0000\n",
            "Epoch 164/300\n",
            "611/611 [==============================] - 4s 6ms/step - loss: 174764903.3725 - mse: 174764903.3725 - val_loss: 274475360.0000 - val_mse: 274475360.0000\n",
            "Epoch 165/300\n",
            "611/611 [==============================] - 4s 6ms/step - loss: 177435061.8039 - mse: 177435061.8039 - val_loss: 283699424.0000 - val_mse: 283699424.0000\n",
            "Epoch 166/300\n",
            "611/611 [==============================] - 3s 5ms/step - loss: 171689559.4248 - mse: 171689559.4248 - val_loss: 268032656.0000 - val_mse: 268032656.0000\n",
            "Epoch 167/300\n",
            "611/611 [==============================] - 3s 5ms/step - loss: 172076981.4902 - mse: 172076981.4902 - val_loss: 247697584.0000 - val_mse: 247697584.0000\n",
            "Epoch 168/300\n",
            "611/611 [==============================] - 3s 6ms/step - loss: 172840915.0327 - mse: 172840915.0327 - val_loss: 256860768.0000 - val_mse: 256860768.0000\n",
            "Epoch 169/300\n",
            "611/611 [==============================] - 3s 6ms/step - loss: 178658619.5817 - mse: 178658619.5817 - val_loss: 249233536.0000 - val_mse: 249233536.0000\n",
            "Epoch 170/300\n",
            "611/611 [==============================] - 4s 6ms/step - loss: 178871360.9935 - mse: 178871360.9935 - val_loss: 315878368.0000 - val_mse: 315878368.0000\n",
            "Epoch 171/300\n",
            "611/611 [==============================] - 3s 6ms/step - loss: 169696025.1765 - mse: 169696025.1765 - val_loss: 311557632.0000 - val_mse: 311557632.0000\n",
            "Epoch 172/300\n",
            "611/611 [==============================] - 3s 5ms/step - loss: 169819986.7190 - mse: 169819986.7190 - val_loss: 404786976.0000 - val_mse: 404786976.0000\n",
            "Epoch 173/300\n",
            "611/611 [==============================] - 3s 5ms/step - loss: 169053300.2745 - mse: 169053300.2745 - val_loss: 269300864.0000 - val_mse: 269300864.0000\n",
            "Epoch 174/300\n",
            "611/611 [==============================] - 3s 5ms/step - loss: 175678047.8170 - mse: 175678047.8170 - val_loss: 265449472.0000 - val_mse: 265449472.0000\n",
            "Epoch 175/300\n",
            "611/611 [==============================] - 3s 6ms/step - loss: 171485859.6078 - mse: 171485859.6078 - val_loss: 339662880.0000 - val_mse: 339662880.0000\n",
            "Epoch 176/300\n",
            "611/611 [==============================] - 3s 5ms/step - loss: 179722879.7386 - mse: 179722879.7386 - val_loss: 346504384.0000 - val_mse: 346504384.0000\n",
            "Epoch 177/300\n",
            "611/611 [==============================] - 3s 5ms/step - loss: 178510877.5686 - mse: 178510877.5686 - val_loss: 348754080.0000 - val_mse: 348754080.0000\n",
            "Epoch 178/300\n",
            "611/611 [==============================] - 3s 6ms/step - loss: 165022096.9281 - mse: 165022096.9281 - val_loss: 265815952.0000 - val_mse: 265815952.0000\n",
            "Epoch 179/300\n",
            "611/611 [==============================] - 3s 6ms/step - loss: 175780877.9869 - mse: 175780877.9869 - val_loss: 320236160.0000 - val_mse: 320236160.0000\n",
            "Epoch 180/300\n",
            "611/611 [==============================] - 3s 6ms/step - loss: 177427462.0131 - mse: 177427462.0131 - val_loss: 295442688.0000 - val_mse: 295442688.0000\n",
            "Epoch 181/300\n",
            "611/611 [==============================] - 3s 6ms/step - loss: 178265408.8627 - mse: 178265408.8627 - val_loss: 377475072.0000 - val_mse: 377475072.0000\n",
            "Epoch 182/300\n",
            "611/611 [==============================] - 3s 5ms/step - loss: 176748858.3007 - mse: 176748858.3007 - val_loss: 294491552.0000 - val_mse: 294491552.0000\n",
            "Epoch 183/300\n",
            "611/611 [==============================] - 3s 5ms/step - loss: 178162170.6797 - mse: 178162170.6797 - val_loss: 290900128.0000 - val_mse: 290900128.0000\n",
            "Epoch 184/300\n",
            "611/611 [==============================] - 3s 5ms/step - loss: 176256778.7451 - mse: 176256778.7451 - val_loss: 288103648.0000 - val_mse: 288103648.0000\n",
            "Epoch 185/300\n",
            "611/611 [==============================] - 3s 5ms/step - loss: 177918383.1765 - mse: 177918383.1765 - val_loss: 291068704.0000 - val_mse: 291068704.0000\n",
            "Epoch 186/300\n",
            "611/611 [==============================] - 3s 5ms/step - loss: 173163931.3856 - mse: 173163931.3856 - val_loss: 304699776.0000 - val_mse: 304699776.0000\n",
            "Epoch 187/300\n",
            "611/611 [==============================] - 3s 6ms/step - loss: 174522217.3203 - mse: 174522217.3203 - val_loss: 273508832.0000 - val_mse: 273508832.0000\n",
            "Epoch 188/300\n",
            "611/611 [==============================] - 3s 5ms/step - loss: 179201672.8889 - mse: 179201672.8889 - val_loss: 250491456.0000 - val_mse: 250491456.0000\n",
            "Epoch 189/300\n",
            "611/611 [==============================] - 3s 6ms/step - loss: 179928518.0261 - mse: 179928518.0261 - val_loss: 323967104.0000 - val_mse: 323967104.0000\n",
            "Epoch 190/300\n",
            "611/611 [==============================] - 4s 6ms/step - loss: 173048261.0588 - mse: 173048261.0588 - val_loss: 281019904.0000 - val_mse: 281019904.0000\n",
            "Epoch 191/300\n",
            "611/611 [==============================] - 3s 5ms/step - loss: 175207607.8431 - mse: 175207607.8431 - val_loss: 294801184.0000 - val_mse: 294801184.0000\n",
            "Epoch 192/300\n",
            "611/611 [==============================] - 3s 5ms/step - loss: 179523141.5163 - mse: 179523141.5163 - val_loss: 289525376.0000 - val_mse: 289525376.0000\n",
            "Epoch 193/300\n",
            "611/611 [==============================] - 3s 5ms/step - loss: 176413967.2026 - mse: 176413967.2026 - val_loss: 355596672.0000 - val_mse: 355596672.0000\n",
            "Epoch 194/300\n",
            "611/611 [==============================] - 3s 5ms/step - loss: 173337975.9739 - mse: 173337975.9739 - val_loss: 264582096.0000 - val_mse: 264582096.0000\n",
            "Epoch 195/300\n",
            "611/611 [==============================] - 3s 5ms/step - loss: 171158181.9608 - mse: 171158181.9608 - val_loss: 327502208.0000 - val_mse: 327502208.0000\n",
            "Epoch 196/300\n",
            "611/611 [==============================] - 3s 5ms/step - loss: 177888393.3464 - mse: 177888393.3464 - val_loss: 250085680.0000 - val_mse: 250085680.0000\n",
            "Epoch 197/300\n",
            "611/611 [==============================] - 3s 6ms/step - loss: 170163170.9281 - mse: 170163170.9281 - val_loss: 270588000.0000 - val_mse: 270588000.0000\n",
            "Epoch 198/300\n",
            "611/611 [==============================] - 4s 6ms/step - loss: 173007126.8758 - mse: 173007126.8758 - val_loss: 307818080.0000 - val_mse: 307818080.0000\n",
            "Epoch 199/300\n",
            "611/611 [==============================] - 4s 6ms/step - loss: 172357968.9412 - mse: 172357968.9412 - val_loss: 254517056.0000 - val_mse: 254517056.0000\n",
            "Epoch 200/300\n",
            "611/611 [==============================] - 3s 6ms/step - loss: 170988534.4967 - mse: 170988534.4967 - val_loss: 281717632.0000 - val_mse: 281717632.0000\n",
            "Epoch 201/300\n",
            "611/611 [==============================] - 4s 6ms/step - loss: 185243119.6863 - mse: 185243119.6863 - val_loss: 329775840.0000 - val_mse: 329775840.0000\n",
            "Epoch 202/300\n",
            "611/611 [==============================] - 4s 6ms/step - loss: 179089446.4183 - mse: 179089446.4183 - val_loss: 330217888.0000 - val_mse: 330217888.0000\n",
            "Epoch 203/300\n",
            "611/611 [==============================] - 4s 6ms/step - loss: 165719269.2810 - mse: 165719269.2810 - val_loss: 239195888.0000 - val_mse: 239195888.0000\n",
            "Epoch 204/300\n",
            "611/611 [==============================] - 3s 5ms/step - loss: 172765338.9542 - mse: 172765338.9542 - val_loss: 264048240.0000 - val_mse: 264048240.0000\n",
            "Epoch 205/300\n",
            "611/611 [==============================] - 3s 5ms/step - loss: 178998244.6797 - mse: 178998244.6797 - val_loss: 362384096.0000 - val_mse: 362384096.0000\n",
            "Epoch 206/300\n",
            "611/611 [==============================] - 3s 5ms/step - loss: 179471924.6275 - mse: 179471924.6275 - val_loss: 355933088.0000 - val_mse: 355933088.0000\n",
            "Epoch 207/300\n",
            "611/611 [==============================] - 4s 6ms/step - loss: 166610498.6797 - mse: 166610498.6797 - val_loss: 270045216.0000 - val_mse: 270045216.0000\n",
            "Epoch 208/300\n",
            "611/611 [==============================] - 3s 6ms/step - loss: 169858355.4510 - mse: 169858355.4510 - val_loss: 302017184.0000 - val_mse: 302017184.0000\n",
            "Epoch 209/300\n",
            "611/611 [==============================] - 4s 6ms/step - loss: 176086958.3529 - mse: 176086958.3529 - val_loss: 240820912.0000 - val_mse: 240820912.0000\n",
            "Epoch 210/300\n",
            "611/611 [==============================] - 4s 6ms/step - loss: 171852482.1176 - mse: 171852482.1176 - val_loss: 234815584.0000 - val_mse: 234815584.0000\n",
            "Epoch 211/300\n",
            "611/611 [==============================] - 4s 6ms/step - loss: 173144629.9085 - mse: 173144629.9085 - val_loss: 348136000.0000 - val_mse: 348136000.0000\n",
            "Epoch 212/300\n",
            "611/611 [==============================] - 3s 6ms/step - loss: 167815144.7582 - mse: 167815144.7582 - val_loss: 335572896.0000 - val_mse: 335572896.0000\n",
            "Epoch 213/300\n",
            "611/611 [==============================] - 3s 5ms/step - loss: 169833866.7059 - mse: 169833866.7059 - val_loss: 266583504.0000 - val_mse: 266583504.0000\n",
            "Epoch 214/300\n",
            "611/611 [==============================] - 3s 5ms/step - loss: 163773766.5882 - mse: 163773766.5882 - val_loss: 311367936.0000 - val_mse: 311367936.0000\n",
            "Epoch 215/300\n",
            "611/611 [==============================] - 3s 5ms/step - loss: 172102989.3072 - mse: 172102989.3072 - val_loss: 341683040.0000 - val_mse: 341683040.0000\n",
            "Epoch 216/300\n",
            "611/611 [==============================] - 3s 5ms/step - loss: 177168461.0719 - mse: 177168461.0719 - val_loss: 291606208.0000 - val_mse: 291606208.0000\n",
            "Epoch 217/300\n",
            "611/611 [==============================] - 3s 5ms/step - loss: 171214700.2092 - mse: 171214700.2092 - val_loss: 248985072.0000 - val_mse: 248985072.0000\n",
            "Epoch 218/300\n",
            "611/611 [==============================] - 3s 5ms/step - loss: 175429078.5098 - mse: 175429078.5098 - val_loss: 271655680.0000 - val_mse: 271655680.0000\n",
            "Epoch 219/300\n",
            "611/611 [==============================] - 3s 5ms/step - loss: 168282144.0131 - mse: 168282144.0131 - val_loss: 302458080.0000 - val_mse: 302458080.0000\n",
            "Epoch 220/300\n",
            "611/611 [==============================] - 4s 6ms/step - loss: 171827240.3268 - mse: 171827240.3268 - val_loss: 287120448.0000 - val_mse: 287120448.0000\n",
            "Epoch 221/300\n",
            "611/611 [==============================] - 3s 5ms/step - loss: 173543153.8562 - mse: 173543153.8562 - val_loss: 391015648.0000 - val_mse: 391015648.0000\n",
            "Epoch 222/300\n",
            "611/611 [==============================] - 3s 6ms/step - loss: 176062849.9739 - mse: 176062849.9739 - val_loss: 313464416.0000 - val_mse: 313464416.0000\n",
            "Epoch 223/300\n",
            "611/611 [==============================] - 4s 6ms/step - loss: 167147638.0915 - mse: 167147638.0915 - val_loss: 233558192.0000 - val_mse: 233558192.0000\n",
            "Epoch 224/300\n",
            "611/611 [==============================] - 4s 6ms/step - loss: 170580945.5948 - mse: 170580945.5948 - val_loss: 269142176.0000 - val_mse: 269142176.0000\n",
            "Epoch 225/300\n",
            "611/611 [==============================] - 4s 6ms/step - loss: 170156861.0458 - mse: 170156861.0458 - val_loss: 333384160.0000 - val_mse: 333384160.0000\n",
            "Epoch 226/300\n",
            "611/611 [==============================] - 3s 6ms/step - loss: 177974122.0392 - mse: 177974122.0392 - val_loss: 252173616.0000 - val_mse: 252173616.0000\n",
            "Epoch 227/300\n",
            "611/611 [==============================] - 3s 6ms/step - loss: 169104550.1699 - mse: 169104550.1699 - val_loss: 287759776.0000 - val_mse: 287759776.0000\n",
            "Epoch 228/300\n",
            "611/611 [==============================] - 4s 6ms/step - loss: 173671771.0850 - mse: 173671771.0850 - val_loss: 249001312.0000 - val_mse: 249001312.0000\n",
            "Epoch 229/300\n",
            "611/611 [==============================] - 3s 6ms/step - loss: 170362053.2810 - mse: 170362053.2810 - val_loss: 307381344.0000 - val_mse: 307381344.0000\n",
            "Epoch 230/300\n",
            "611/611 [==============================] - 3s 5ms/step - loss: 168168049.0719 - mse: 168168049.0719 - val_loss: 345424448.0000 - val_mse: 345424448.0000\n",
            "Epoch 231/300\n",
            "611/611 [==============================] - 3s 5ms/step - loss: 175424112.0784 - mse: 175424112.0784 - val_loss: 284792288.0000 - val_mse: 284792288.0000\n",
            "Epoch 232/300\n",
            "611/611 [==============================] - 3s 5ms/step - loss: 173584908.1046 - mse: 173584908.1046 - val_loss: 265830672.0000 - val_mse: 265830672.0000\n",
            "Epoch 233/300\n",
            "611/611 [==============================] - 3s 5ms/step - loss: 176915942.3529 - mse: 176915942.3529 - val_loss: 295691680.0000 - val_mse: 295691680.0000\n",
            "Epoch 234/300\n",
            "611/611 [==============================] - 4s 6ms/step - loss: 172096796.7843 - mse: 172096796.7843 - val_loss: 237155776.0000 - val_mse: 237155776.0000\n",
            "Epoch 235/300\n",
            "611/611 [==============================] - 3s 6ms/step - loss: 177187074.9281 - mse: 177187074.9281 - val_loss: 264282480.0000 - val_mse: 264282480.0000\n",
            "Epoch 236/300\n",
            "611/611 [==============================] - 3s 6ms/step - loss: 171758364.3660 - mse: 171758364.3660 - val_loss: 306610400.0000 - val_mse: 306610400.0000\n",
            "Epoch 237/300\n",
            "611/611 [==============================] - 3s 6ms/step - loss: 171433961.7516 - mse: 171433961.7516 - val_loss: 302441568.0000 - val_mse: 302441568.0000\n",
            "Epoch 238/300\n",
            "611/611 [==============================] - 3s 5ms/step - loss: 168725595.5817 - mse: 168725595.5817 - val_loss: 250531568.0000 - val_mse: 250531568.0000\n",
            "Epoch 239/300\n",
            "611/611 [==============================] - 3s 5ms/step - loss: 175921447.1634 - mse: 175921447.1634 - val_loss: 348113184.0000 - val_mse: 348113184.0000\n",
            "Epoch 240/300\n",
            "611/611 [==============================] - 4s 6ms/step - loss: 169586244.2353 - mse: 169586244.2353 - val_loss: 337734176.0000 - val_mse: 337734176.0000\n",
            "Epoch 241/300\n",
            "611/611 [==============================] - 3s 6ms/step - loss: 172528584.7582 - mse: 172528584.7582 - val_loss: 230472608.0000 - val_mse: 230472608.0000\n",
            "Epoch 242/300\n",
            "611/611 [==============================] - 3s 5ms/step - loss: 170489933.2026 - mse: 170489933.2026 - val_loss: 350661760.0000 - val_mse: 350661760.0000\n",
            "Epoch 243/300\n",
            "611/611 [==============================] - 4s 6ms/step - loss: 175859857.7778 - mse: 175859857.7778 - val_loss: 249234064.0000 - val_mse: 249234064.0000\n",
            "Epoch 244/300\n",
            "611/611 [==============================] - 3s 6ms/step - loss: 172390682.4052 - mse: 172390682.4052 - val_loss: 328709152.0000 - val_mse: 328709152.0000\n",
            "Epoch 245/300\n",
            "611/611 [==============================] - 4s 6ms/step - loss: 172568209.9216 - mse: 172568209.9216 - val_loss: 235791472.0000 - val_mse: 235791472.0000\n",
            "Epoch 246/300\n",
            "611/611 [==============================] - 4s 6ms/step - loss: 168838525.1503 - mse: 168838525.1503 - val_loss: 282763744.0000 - val_mse: 282763744.0000\n",
            "Epoch 247/300\n",
            "611/611 [==============================] - 3s 5ms/step - loss: 169567250.8889 - mse: 169567250.8889 - val_loss: 342537728.0000 - val_mse: 342537728.0000\n",
            "Epoch 248/300\n",
            "611/611 [==============================] - 3s 5ms/step - loss: 168822935.6863 - mse: 168822935.6863 - val_loss: 268680320.0000 - val_mse: 268680320.0000\n",
            "Epoch 249/300\n",
            "611/611 [==============================] - 3s 5ms/step - loss: 166953421.0719 - mse: 166953421.0719 - val_loss: 255770336.0000 - val_mse: 255770336.0000\n",
            "Epoch 250/300\n",
            "611/611 [==============================] - 3s 5ms/step - loss: 169503466.4706 - mse: 169503466.4706 - val_loss: 234253888.0000 - val_mse: 234253888.0000\n",
            "Epoch 251/300\n",
            "611/611 [==============================] - 3s 6ms/step - loss: 169410511.2418 - mse: 169410511.2418 - val_loss: 296166304.0000 - val_mse: 296166304.0000\n",
            "Epoch 252/300\n",
            "611/611 [==============================] - 3s 5ms/step - loss: 167616502.6797 - mse: 167616502.6797 - val_loss: 302683200.0000 - val_mse: 302683200.0000\n",
            "Epoch 253/300\n",
            "611/611 [==============================] - 3s 5ms/step - loss: 176815121.2026 - mse: 176815121.2026 - val_loss: 261327568.0000 - val_mse: 261327568.0000\n",
            "Epoch 254/300\n",
            "611/611 [==============================] - 3s 5ms/step - loss: 172207746.3268 - mse: 172207746.3268 - val_loss: 253243408.0000 - val_mse: 253243408.0000\n",
            "Epoch 255/300\n",
            "611/611 [==============================] - 3s 5ms/step - loss: 167932307.4510 - mse: 167932307.4510 - val_loss: 351849536.0000 - val_mse: 351849536.0000\n",
            "Epoch 256/300\n",
            "611/611 [==============================] - 3s 5ms/step - loss: 170199806.0915 - mse: 170199806.0915 - val_loss: 239690000.0000 - val_mse: 239690000.0000\n",
            "Epoch 257/300\n",
            "611/611 [==============================] - 3s 5ms/step - loss: 178082965.3595 - mse: 178082965.3595 - val_loss: 237564464.0000 - val_mse: 237564464.0000\n",
            "Epoch 258/300\n",
            "611/611 [==============================] - 3s 5ms/step - loss: 170140683.3725 - mse: 170140683.3725 - val_loss: 335253056.0000 - val_mse: 335253056.0000\n",
            "Epoch 259/300\n",
            "611/611 [==============================] - 3s 5ms/step - loss: 165407014.7712 - mse: 165407014.7712 - val_loss: 301619456.0000 - val_mse: 301619456.0000\n",
            "Epoch 260/300\n",
            "611/611 [==============================] - 3s 5ms/step - loss: 165327907.4902 - mse: 165327907.4902 - val_loss: 288999136.0000 - val_mse: 288999136.0000\n",
            "Epoch 261/300\n",
            "611/611 [==============================] - 3s 6ms/step - loss: 167059335.5686 - mse: 167059335.5686 - val_loss: 274290848.0000 - val_mse: 274290848.0000\n",
            "Epoch 262/300\n",
            "611/611 [==============================] - 3s 5ms/step - loss: 169308903.2680 - mse: 169308903.2680 - val_loss: 365522592.0000 - val_mse: 365522592.0000\n",
            "Epoch 263/300\n",
            "611/611 [==============================] - 3s 6ms/step - loss: 164510885.3987 - mse: 164510885.3987 - val_loss: 301898304.0000 - val_mse: 301898304.0000\n",
            "Epoch 264/300\n",
            "611/611 [==============================] - 4s 6ms/step - loss: 167377107.2418 - mse: 167377107.2418 - val_loss: 237389840.0000 - val_mse: 237389840.0000\n",
            "Epoch 265/300\n",
            "611/611 [==============================] - 3s 5ms/step - loss: 171967903.1503 - mse: 171967903.1503 - val_loss: 241986336.0000 - val_mse: 241986336.0000\n",
            "Epoch 266/300\n",
            "611/611 [==============================] - 4s 6ms/step - loss: 168651153.8693 - mse: 168651153.8693 - val_loss: 386433504.0000 - val_mse: 386433504.0000\n",
            "Epoch 267/300\n",
            "611/611 [==============================] - 4s 6ms/step - loss: 163275831.6209 - mse: 163275831.6209 - val_loss: 280359936.0000 - val_mse: 280359936.0000\n",
            "Epoch 268/300\n",
            "611/611 [==============================] - 3s 6ms/step - loss: 179199796.9935 - mse: 179199796.9935 - val_loss: 284164608.0000 - val_mse: 284164608.0000\n",
            "Epoch 269/300\n",
            "611/611 [==============================] - 3s 5ms/step - loss: 172082618.5621 - mse: 172082618.5621 - val_loss: 256103552.0000 - val_mse: 256103552.0000\n",
            "Epoch 270/300\n",
            "611/611 [==============================] - 3s 5ms/step - loss: 170784520.9935 - mse: 170784520.9935 - val_loss: 412344160.0000 - val_mse: 412344160.0000\n",
            "Epoch 271/300\n",
            "611/611 [==============================] - 3s 5ms/step - loss: 162477656.2614 - mse: 162477656.2614 - val_loss: 276769504.0000 - val_mse: 276769504.0000\n",
            "Epoch 272/300\n",
            "611/611 [==============================] - 4s 6ms/step - loss: 171343935.2941 - mse: 171343935.2941 - val_loss: 363178112.0000 - val_mse: 363178112.0000\n",
            "Epoch 273/300\n",
            "611/611 [==============================] - 4s 6ms/step - loss: 165734178.0261 - mse: 165734178.0261 - val_loss: 361418016.0000 - val_mse: 361418016.0000\n",
            "Epoch 274/300\n",
            "611/611 [==============================] - 3s 5ms/step - loss: 170689886.0131 - mse: 170689886.0131 - val_loss: 320194272.0000 - val_mse: 320194272.0000\n",
            "Epoch 275/300\n",
            "611/611 [==============================] - 3s 6ms/step - loss: 170415517.7255 - mse: 170415517.7255 - val_loss: 277932768.0000 - val_mse: 277932768.0000\n",
            "Epoch 276/300\n",
            "611/611 [==============================] - 3s 6ms/step - loss: 167813300.8235 - mse: 167813300.8235 - val_loss: 322049184.0000 - val_mse: 322049184.0000\n",
            "Epoch 277/300\n",
            "611/611 [==============================] - 3s 6ms/step - loss: 169107826.6144 - mse: 169107826.6144 - val_loss: 241752816.0000 - val_mse: 241752816.0000\n",
            "Epoch 278/300\n",
            "611/611 [==============================] - 3s 6ms/step - loss: 167364775.0327 - mse: 167364775.0327 - val_loss: 263137168.0000 - val_mse: 263137168.0000\n",
            "Epoch 279/300\n",
            "611/611 [==============================] - 3s 6ms/step - loss: 169973595.1895 - mse: 169973595.1895 - val_loss: 300311232.0000 - val_mse: 300311232.0000\n",
            "Epoch 280/300\n",
            "611/611 [==============================] - 4s 6ms/step - loss: 168706086.4314 - mse: 168706086.4314 - val_loss: 299782240.0000 - val_mse: 299782240.0000\n",
            "Epoch 281/300\n",
            "611/611 [==============================] - 3s 6ms/step - loss: 162980706.6275 - mse: 162980706.6275 - val_loss: 330838432.0000 - val_mse: 330838432.0000\n",
            "Epoch 282/300\n",
            "611/611 [==============================] - 4s 6ms/step - loss: 162276905.1503 - mse: 162276905.1503 - val_loss: 252745456.0000 - val_mse: 252745456.0000\n",
            "Epoch 283/300\n",
            "611/611 [==============================] - 3s 5ms/step - loss: 167115609.0327 - mse: 167115609.0327 - val_loss: 249480256.0000 - val_mse: 249480256.0000\n",
            "Epoch 284/300\n",
            "611/611 [==============================] - 3s 6ms/step - loss: 168206911.3725 - mse: 168206911.3725 - val_loss: 249020256.0000 - val_mse: 249020256.0000\n",
            "Epoch 285/300\n",
            "611/611 [==============================] - 3s 6ms/step - loss: 166642312.0261 - mse: 166642312.0261 - val_loss: 261703680.0000 - val_mse: 261703680.0000\n",
            "Epoch 286/300\n",
            "611/611 [==============================] - 4s 6ms/step - loss: 168937873.9085 - mse: 168937873.9085 - val_loss: 339161920.0000 - val_mse: 339161920.0000\n",
            "Epoch 287/300\n",
            "611/611 [==============================] - 3s 5ms/step - loss: 169182280.3399 - mse: 169182280.3399 - val_loss: 264845920.0000 - val_mse: 264845920.0000\n",
            "Epoch 288/300\n",
            "611/611 [==============================] - 3s 5ms/step - loss: 168990050.1176 - mse: 168990050.1176 - val_loss: 251803360.0000 - val_mse: 251803360.0000\n",
            "Epoch 289/300\n",
            "611/611 [==============================] - 4s 6ms/step - loss: 168303673.2549 - mse: 168303673.2549 - val_loss: 253513744.0000 - val_mse: 253513744.0000\n",
            "Epoch 290/300\n",
            "611/611 [==============================] - 3s 6ms/step - loss: 171492827.1765 - mse: 171492827.1765 - val_loss: 239985440.0000 - val_mse: 239985440.0000\n",
            "Epoch 291/300\n",
            "611/611 [==============================] - 3s 6ms/step - loss: 165436082.4314 - mse: 165436082.4314 - val_loss: 252662848.0000 - val_mse: 252662848.0000\n",
            "Epoch 292/300\n",
            "611/611 [==============================] - 3s 6ms/step - loss: 170577640.4706 - mse: 170577640.4706 - val_loss: 298595904.0000 - val_mse: 298595904.0000\n",
            "Epoch 293/300\n",
            "611/611 [==============================] - 3s 5ms/step - loss: 167778929.8301 - mse: 167778929.8301 - val_loss: 318603168.0000 - val_mse: 318603168.0000\n",
            "Epoch 294/300\n",
            "611/611 [==============================] - 3s 5ms/step - loss: 166273065.3595 - mse: 166273065.3595 - val_loss: 346444384.0000 - val_mse: 346444384.0000\n",
            "Epoch 295/300\n",
            "611/611 [==============================] - 3s 6ms/step - loss: 170197254.6144 - mse: 170197254.6144 - val_loss: 317967168.0000 - val_mse: 317967168.0000\n",
            "Epoch 296/300\n",
            "611/611 [==============================] - 4s 6ms/step - loss: 165171335.7778 - mse: 165171335.7778 - val_loss: 228684736.0000 - val_mse: 228684736.0000\n",
            "Epoch 297/300\n",
            "611/611 [==============================] - 3s 5ms/step - loss: 171797098.4052 - mse: 171797098.4052 - val_loss: 292447680.0000 - val_mse: 292447680.0000\n",
            "Epoch 298/300\n",
            "611/611 [==============================] - 3s 5ms/step - loss: 163905866.0392 - mse: 163905866.0392 - val_loss: 247324992.0000 - val_mse: 247324992.0000\n",
            "Epoch 299/300\n",
            "611/611 [==============================] - 3s 6ms/step - loss: 165166906.7320 - mse: 165166906.7320 - val_loss: 261385968.0000 - val_mse: 261385968.0000\n",
            "Epoch 300/300\n",
            "611/611 [==============================] - 3s 6ms/step - loss: 165857194.2222 - mse: 165857194.2222 - val_loss: 230833904.0000 - val_mse: 230833904.0000\n"
          ],
          "name": "stdout"
        }
      ]
    },
    {
      "cell_type": "code",
      "metadata": {
        "colab": {
          "base_uri": "https://localhost:8080/",
          "height": 295
        },
        "id": "zsUryKDEcaFO",
        "outputId": "ff43e74b-2297-4c33-862a-9b0480ffd867"
      },
      "source": [
        "mse = history.history['mse']\n",
        "training_loss = history.history['loss']\n",
        "val_loss = history.history['val_loss']\n",
        "\n",
        "\n",
        "epochs = range(1, len(mse) + 1)\n",
        "\n",
        "plt.plot(epochs, training_loss, 'bo', label='Training loss')\n",
        "\n",
        "plt.plot(epochs, val_loss, 'b', label='Validation loss')\n",
        "plt.title('Training and validation loss')\n",
        "plt.xlabel('Epochs')\n",
        "plt.ylabel('Loss')\n",
        "plt.legend()\n",
        "\n",
        "plt.show()"
      ],
      "execution_count": null,
      "outputs": [
        {
          "output_type": "display_data",
          "data": {
            "image/png": "[encoded data removed]",
            "text/plain": [
              "<Figure size 432x288 with 1 Axes>"
            ]
          },
          "metadata": {
            "tags": [],
            "needs_background": "light"
          }
        }
      ]
    },
    {
      "cell_type": "code",
      "metadata": {
        "id": "tqtl97ZKdHCC"
      },
      "source": [
        "'''validation loss가 lgbm에 비해서 너무나 높게 측정이 됩니다. 신경망의 깊이가 얕았거나,, 다른 파라미터들의 조정이 잘 안 된 것 같은데 파라미터 공부를 더 해봐야 정확히 알 것 같습니다.'''"
      ],
      "execution_count": null,
      "outputs": []
    },
    {
      "cell_type": "code",
      "metadata": {
        "id": "GXtf7XJNc-vx"
      },
      "source": [
        "feature_list = list(train_x.columns)\n",
        "\n",
        "CBE_encoder = CatBoostEncoder()\n",
        "train_cbe = CBE_encoder.fit_transform(train_x[feature_list], train_y)\n",
        "test_cbe = CBE_encoder.transform(test_x[feature_list])"
      ],
      "execution_count": null,
      "outputs": []
    },
    {
      "cell_type": "code",
      "metadata": {
        "id": "ogvRDlTcmxdt"
      },
      "source": [
        "def build_model():\n",
        "  model = keras.Sequential([\n",
        "    layers.Dense(1024, activation = 'relu', input_shape = [len(train_cbe.keys())]),\n",
        "    layers.Dense(246, activation = 'relu'),\n",
        "    layers.Dense(32, activation = 'relu'),\n",
        "    layers.Dense(1, activation = 'sigmoid')\n",
        "  ])\n",
        "\n",
        "  optimizer = tf.keras.optimizers.RMSprop(0.0001)\n",
        "\n",
        "  model.compile(loss = 'mse', \n",
        "                optimizer = optimizer,\n",
        "                metrics = ['mse'])\n",
        "  return model\n"
      ],
      "execution_count": null,
      "outputs": []
    },
    {
      "cell_type": "code",
      "metadata": {
        "colab": {
          "base_uri": "https://localhost:8080/"
        },
        "id": "PaC6MWImcjWR",
        "outputId": "bf818b53-7bf0-4e94-8f80-fdce3b104e79"
      },
      "source": [
        "model2 = build_model()\n",
        "model.summary()"
      ],
      "execution_count": null,
      "outputs": [
        {
          "output_type": "stream",
          "text": [
            "Model: \"sequential_4\"\n",
            "_________________________________________________________________\n",
            "Layer (type)                 Output Shape              Param #   \n",
            "=================================================================\n",
            "dense_16 (Dense)             (None, 256)               2304      \n",
            "_________________________________________________________________\n",
            "dense_17 (Dense)             (None, 64)                16448     \n",
            "_________________________________________________________________\n",
            "dense_18 (Dense)             (None, 32)                2080      \n",
            "_________________________________________________________________\n",
            "dense_19 (Dense)             (None, 1)                 33        \n",
            "=================================================================\n",
            "Total params: 20,865\n",
            "Trainable params: 20,865\n",
            "Non-trainable params: 0\n",
            "_________________________________________________________________\n"
          ],
          "name": "stdout"
        }
      ]
    },
    {
      "cell_type": "code",
      "metadata": {
        "colab": {
          "base_uri": "https://localhost:8080/",
          "height": 1000
        },
        "id": "K1OsiHv4cbsK",
        "outputId": "fa0d47d3-3f64-4edf-e5f6-13371e808af8"
      },
      "source": [
        "history = model2.fit(test_cbe, test_y, epochs=300, batch_size = 512)"
      ],
      "execution_count": null,
      "outputs": [
        {
          "output_type": "stream",
          "text": [
            "Epoch 1/300\n",
            "179/179 [==============================] - 4s 24ms/step - loss: 5495819776.0000 - mse: 5495819776.0000\n",
            "Epoch 2/300\n",
            "179/179 [==============================] - 4s 24ms/step - loss: 5495819776.0000 - mse: 5495819776.0000\n",
            "Epoch 3/300\n",
            "179/179 [==============================] - 4s 24ms/step - loss: 5495820288.0000 - mse: 5495820288.0000\n",
            "Epoch 4/300\n",
            "179/179 [==============================] - 4s 25ms/step - loss: 5495818240.0000 - mse: 5495818240.0000\n",
            "Epoch 5/300\n",
            "179/179 [==============================] - 4s 24ms/step - loss: 5495820800.0000 - mse: 5495820800.0000\n",
            "Epoch 6/300\n",
            "179/179 [==============================] - 4s 25ms/step - loss: 5495819776.0000 - mse: 5495819776.0000\n",
            "Epoch 7/300\n",
            "179/179 [==============================] - 4s 24ms/step - loss: 5495818752.0000 - mse: 5495818752.0000\n",
            "Epoch 8/300\n",
            "179/179 [==============================] - 4s 25ms/step - loss: 5495819776.0000 - mse: 5495819776.0000\n",
            "Epoch 9/300\n",
            "179/179 [==============================] - 4s 25ms/step - loss: 5495818240.0000 - mse: 5495818240.0000\n",
            "Epoch 10/300\n",
            "179/179 [==============================] - 4s 25ms/step - loss: 5495820288.0000 - mse: 5495820288.0000\n",
            "Epoch 11/300\n",
            "179/179 [==============================] - 4s 25ms/step - loss: 5495821824.0000 - mse: 5495821824.0000\n",
            "Epoch 12/300\n",
            "179/179 [==============================] - 4s 25ms/step - loss: 5495817728.0000 - mse: 5495817728.0000\n",
            "Epoch 13/300\n",
            "179/179 [==============================] - 4s 25ms/step - loss: 5495819776.0000 - mse: 5495819776.0000\n",
            "Epoch 14/300\n",
            "179/179 [==============================] - 4s 25ms/step - loss: 5495820288.0000 - mse: 5495820288.0000\n",
            "Epoch 15/300\n",
            "179/179 [==============================] - 4s 25ms/step - loss: 5495820800.0000 - mse: 5495820800.0000\n",
            "Epoch 16/300\n",
            "179/179 [==============================] - 4s 25ms/step - loss: 5495819264.0000 - mse: 5495819264.0000\n",
            "Epoch 17/300\n",
            "179/179 [==============================] - 4s 25ms/step - loss: 5495819776.0000 - mse: 5495819776.0000\n",
            "Epoch 18/300\n",
            "179/179 [==============================] - 4s 24ms/step - loss: 5495819776.0000 - mse: 5495819776.0000\n",
            "Epoch 19/300\n",
            "179/179 [==============================] - 4s 25ms/step - loss: 5495821312.0000 - mse: 5495821312.0000\n",
            "Epoch 20/300\n",
            "179/179 [==============================] - 5s 25ms/step - loss: 5495820800.0000 - mse: 5495820800.0000\n",
            "Epoch 21/300\n",
            "179/179 [==============================] - 4s 25ms/step - loss: 5495820800.0000 - mse: 5495820800.0000\n",
            "Epoch 22/300\n",
            "179/179 [==============================] - 4s 25ms/step - loss: 5495822336.0000 - mse: 5495822336.0000\n",
            "Epoch 23/300\n",
            "179/179 [==============================] - 4s 24ms/step - loss: 5495819776.0000 - mse: 5495819776.0000\n",
            "Epoch 24/300\n",
            "179/179 [==============================] - 4s 24ms/step - loss: 5495819776.0000 - mse: 5495819776.0000\n",
            "Epoch 25/300\n",
            "179/179 [==============================] - 4s 24ms/step - loss: 5495820288.0000 - mse: 5495820288.0000\n",
            "Epoch 26/300\n",
            "179/179 [==============================] - 4s 24ms/step - loss: 5495821824.0000 - mse: 5495821824.0000\n",
            "Epoch 27/300\n",
            "179/179 [==============================] - 4s 25ms/step - loss: 5495819776.0000 - mse: 5495819776.0000\n",
            "Epoch 28/300\n",
            "179/179 [==============================] - 4s 24ms/step - loss: 5495819776.0000 - mse: 5495819776.0000\n",
            "Epoch 29/300\n",
            "179/179 [==============================] - 4s 25ms/step - loss: 5495820288.0000 - mse: 5495820288.0000\n",
            "Epoch 30/300\n",
            "179/179 [==============================] - 4s 24ms/step - loss: 5495821824.0000 - mse: 5495821824.0000\n",
            "Epoch 31/300\n",
            "179/179 [==============================] - 4s 24ms/step - loss: 5495819264.0000 - mse: 5495819264.0000\n",
            "Epoch 32/300\n",
            "179/179 [==============================] - 4s 25ms/step - loss: 5495821312.0000 - mse: 5495821312.0000\n",
            "Epoch 33/300\n",
            "179/179 [==============================] - 4s 25ms/step - loss: 5495821312.0000 - mse: 5495821312.0000\n",
            "Epoch 34/300\n",
            "179/179 [==============================] - 4s 25ms/step - loss: 5495818752.0000 - mse: 5495818752.0000\n",
            "Epoch 35/300\n",
            "179/179 [==============================] - 4s 24ms/step - loss: 5495818752.0000 - mse: 5495818752.0000\n",
            "Epoch 36/300\n",
            "179/179 [==============================] - 4s 25ms/step - loss: 5495818752.0000 - mse: 5495818752.0000\n",
            "Epoch 37/300\n",
            "179/179 [==============================] - 4s 25ms/step - loss: 5495818752.0000 - mse: 5495818752.0000\n",
            "Epoch 38/300\n",
            "179/179 [==============================] - 4s 25ms/step - loss: 5495821312.0000 - mse: 5495821312.0000\n",
            "Epoch 39/300\n",
            "179/179 [==============================] - 5s 25ms/step - loss: 5495820288.0000 - mse: 5495820288.0000\n",
            "Epoch 40/300\n",
            "179/179 [==============================] - 4s 25ms/step - loss: 5495819776.0000 - mse: 5495819776.0000\n",
            "Epoch 41/300\n",
            "179/179 [==============================] - 4s 25ms/step - loss: 5495818752.0000 - mse: 5495818752.0000\n",
            "Epoch 42/300\n",
            "179/179 [==============================] - 4s 25ms/step - loss: 5495820288.0000 - mse: 5495820288.0000\n",
            "Epoch 43/300\n",
            "179/179 [==============================] - 4s 25ms/step - loss: 5495820800.0000 - mse: 5495820800.0000\n",
            "Epoch 44/300\n",
            "179/179 [==============================] - 4s 25ms/step - loss: 5495819264.0000 - mse: 5495819264.0000\n",
            "Epoch 45/300\n",
            "179/179 [==============================] - 4s 25ms/step - loss: 5495818240.0000 - mse: 5495818240.0000\n",
            "Epoch 46/300\n",
            "179/179 [==============================] - 4s 25ms/step - loss: 5495821312.0000 - mse: 5495821312.0000\n",
            "Epoch 47/300\n",
            "179/179 [==============================] - 4s 25ms/step - loss: 5495819776.0000 - mse: 5495819776.0000\n",
            "Epoch 48/300\n",
            "179/179 [==============================] - 4s 25ms/step - loss: 5495820800.0000 - mse: 5495820800.0000\n",
            "Epoch 49/300\n",
            "179/179 [==============================] - 4s 25ms/step - loss: 5495818752.0000 - mse: 5495818752.0000\n",
            "Epoch 50/300\n",
            "179/179 [==============================] - 4s 25ms/step - loss: 5495819264.0000 - mse: 5495819264.0000\n",
            "Epoch 51/300\n",
            "179/179 [==============================] - 5s 25ms/step - loss: 5495819264.0000 - mse: 5495819264.0000\n",
            "Epoch 52/300\n",
            "179/179 [==============================] - 5s 26ms/step - loss: 5495818752.0000 - mse: 5495818752.0000\n",
            "Epoch 53/300\n",
            "179/179 [==============================] - 5s 25ms/step - loss: 5495819776.0000 - mse: 5495819776.0000\n",
            "Epoch 54/300\n",
            "179/179 [==============================] - 5s 25ms/step - loss: 5495820288.0000 - mse: 5495820288.0000\n",
            "Epoch 55/300\n",
            "179/179 [==============================] - 4s 25ms/step - loss: 5495818752.0000 - mse: 5495818752.0000\n",
            "Epoch 56/300\n",
            "179/179 [==============================] - 5s 25ms/step - loss: 5495818752.0000 - mse: 5495818752.0000\n",
            "Epoch 57/300\n",
            " 13/179 [=>............................] - ETA: 4s - loss: 5400710656.0000 - mse: 5400710656.0000"
          ],
          "name": "stdout"
        },
        {
          "output_type": "error",
          "ename": "KeyboardInterrupt",
          "evalue": "ignored",
          "traceback": [
            "\u001b[0;31m---------------------------------------------------------------------------\u001b[0m",
            "\u001b[0;31mKeyboardInterrupt\u001b[0m                         Traceback (most recent call last)",
            "\u001b[0;32m<ipython-input-123-32fd75155185>\u001b[0m in \u001b[0;36m<module>\u001b[0;34m()\u001b[0m\n\u001b[0;32m----> 1\u001b[0;31m \u001b[0mhistory\u001b[0m \u001b[0;34m=\u001b[0m \u001b[0mmodel2\u001b[0m\u001b[0;34m.\u001b[0m\u001b[0mfit\u001b[0m\u001b[0;34m(\u001b[0m\u001b[0mtest_cbe\u001b[0m\u001b[0;34m,\u001b[0m \u001b[0mtest_y\u001b[0m\u001b[0;34m,\u001b[0m \u001b[0mepochs\u001b[0m\u001b[0;34m=\u001b[0m\u001b[0;36m300\u001b[0m\u001b[0;34m,\u001b[0m \u001b[0mbatch_size\u001b[0m \u001b[0;34m=\u001b[0m \u001b[0;36m512\u001b[0m\u001b[0;34m)\u001b[0m\u001b[0;34m\u001b[0m\u001b[0;34m\u001b[0m\u001b[0m\n\u001b[0m",
            "\u001b[0;32m/usr/local/lib/python3.7/dist-packages/tensorflow/python/keras/engine/training.py\u001b[0m in \u001b[0;36mfit\u001b[0;34m(self, x, y, batch_size, epochs, verbose, callbacks, validation_split, validation_data, shuffle, class_weight, sample_weight, initial_epoch, steps_per_epoch, validation_steps, validation_batch_size, validation_freq, max_queue_size, workers, use_multiprocessing)\u001b[0m\n\u001b[1;32m   1098\u001b[0m                 _r=1):\n\u001b[1;32m   1099\u001b[0m               \u001b[0mcallbacks\u001b[0m\u001b[0;34m.\u001b[0m\u001b[0mon_train_batch_begin\u001b[0m\u001b[0;34m(\u001b[0m\u001b[0mstep\u001b[0m\u001b[0;34m)\u001b[0m\u001b[0;34m\u001b[0m\u001b[0;34m\u001b[0m\u001b[0m\n\u001b[0;32m-> 1100\u001b[0;31m               \u001b[0mtmp_logs\u001b[0m \u001b[0;34m=\u001b[0m \u001b[0mself\u001b[0m\u001b[0;34m.\u001b[0m\u001b[0mtrain_function\u001b[0m\u001b[0;34m(\u001b[0m\u001b[0miterator\u001b[0m\u001b[0;34m)\u001b[0m\u001b[0;34m\u001b[0m\u001b[0;34m\u001b[0m\u001b[0m\n\u001b[0m\u001b[1;32m   1101\u001b[0m               \u001b[0;32mif\u001b[0m \u001b[0mdata_handler\u001b[0m\u001b[0;34m.\u001b[0m\u001b[0mshould_sync\u001b[0m\u001b[0;34m:\u001b[0m\u001b[0;34m\u001b[0m\u001b[0;34m\u001b[0m\u001b[0m\n\u001b[1;32m   1102\u001b[0m                 \u001b[0mcontext\u001b[0m\u001b[0;34m.\u001b[0m\u001b[0masync_wait\u001b[0m\u001b[0;34m(\u001b[0m\u001b[0;34m)\u001b[0m\u001b[0;34m\u001b[0m\u001b[0;34m\u001b[0m\u001b[0m\n",
            "\u001b[0;32m/usr/local/lib/python3.7/dist-packages/tensorflow/python/eager/def_function.py\u001b[0m in \u001b[0;36m__call__\u001b[0;34m(self, *args, **kwds)\u001b[0m\n\u001b[1;32m    826\u001b[0m     \u001b[0mtracing_count\u001b[0m \u001b[0;34m=\u001b[0m \u001b[0mself\u001b[0m\u001b[0;34m.\u001b[0m\u001b[0mexperimental_get_tracing_count\u001b[0m\u001b[0;34m(\u001b[0m\u001b[0;34m)\u001b[0m\u001b[0;34m\u001b[0m\u001b[0;34m\u001b[0m\u001b[0m\n\u001b[1;32m    827\u001b[0m     \u001b[0;32mwith\u001b[0m \u001b[0mtrace\u001b[0m\u001b[0;34m.\u001b[0m\u001b[0mTrace\u001b[0m\u001b[0;34m(\u001b[0m\u001b[0mself\u001b[0m\u001b[0;34m.\u001b[0m\u001b[0m_name\u001b[0m\u001b[0;34m)\u001b[0m \u001b[0;32mas\u001b[0m \u001b[0mtm\u001b[0m\u001b[0;34m:\u001b[0m\u001b[0;34m\u001b[0m\u001b[0;34m\u001b[0m\u001b[0m\n\u001b[0;32m--> 828\u001b[0;31m       \u001b[0mresult\u001b[0m \u001b[0;34m=\u001b[0m \u001b[0mself\u001b[0m\u001b[0;34m.\u001b[0m\u001b[0m_call\u001b[0m\u001b[0;34m(\u001b[0m\u001b[0;34m*\u001b[0m\u001b[0margs\u001b[0m\u001b[0;34m,\u001b[0m \u001b[0;34m**\u001b[0m\u001b[0mkwds\u001b[0m\u001b[0;34m)\u001b[0m\u001b[0;34m\u001b[0m\u001b[0;34m\u001b[0m\u001b[0m\n\u001b[0m\u001b[1;32m    829\u001b[0m       \u001b[0mcompiler\u001b[0m \u001b[0;34m=\u001b[0m \u001b[0;34m\"xla\"\u001b[0m \u001b[0;32mif\u001b[0m \u001b[0mself\u001b[0m\u001b[0;34m.\u001b[0m\u001b[0m_experimental_compile\u001b[0m \u001b[0;32melse\u001b[0m \u001b[0;34m\"nonXla\"\u001b[0m\u001b[0;34m\u001b[0m\u001b[0;34m\u001b[0m\u001b[0m\n\u001b[1;32m    830\u001b[0m       \u001b[0mnew_tracing_count\u001b[0m \u001b[0;34m=\u001b[0m \u001b[0mself\u001b[0m\u001b[0;34m.\u001b[0m\u001b[0mexperimental_get_tracing_count\u001b[0m\u001b[0;34m(\u001b[0m\u001b[0;34m)\u001b[0m\u001b[0;34m\u001b[0m\u001b[0;34m\u001b[0m\u001b[0m\n",
            "\u001b[0;32m/usr/local/lib/python3.7/dist-packages/tensorflow/python/eager/def_function.py\u001b[0m in \u001b[0;36m_call\u001b[0;34m(self, *args, **kwds)\u001b[0m\n\u001b[1;32m    853\u001b[0m       \u001b[0;31m# In this case we have created variables on the first call, so we run the\u001b[0m\u001b[0;34m\u001b[0m\u001b[0;34m\u001b[0m\u001b[0;34m\u001b[0m\u001b[0m\n\u001b[1;32m    854\u001b[0m       \u001b[0;31m# defunned version which is guaranteed to never create variables.\u001b[0m\u001b[0;34m\u001b[0m\u001b[0;34m\u001b[0m\u001b[0;34m\u001b[0m\u001b[0m\n\u001b[0;32m--> 855\u001b[0;31m       \u001b[0;32mreturn\u001b[0m \u001b[0mself\u001b[0m\u001b[0;34m.\u001b[0m\u001b[0m_stateless_fn\u001b[0m\u001b[0;34m(\u001b[0m\u001b[0;34m*\u001b[0m\u001b[0margs\u001b[0m\u001b[0;34m,\u001b[0m \u001b[0;34m**\u001b[0m\u001b[0mkwds\u001b[0m\u001b[0;34m)\u001b[0m  \u001b[0;31m# pylint: disable=not-callable\u001b[0m\u001b[0;34m\u001b[0m\u001b[0;34m\u001b[0m\u001b[0m\n\u001b[0m\u001b[1;32m    856\u001b[0m     \u001b[0;32melif\u001b[0m \u001b[0mself\u001b[0m\u001b[0;34m.\u001b[0m\u001b[0m_stateful_fn\u001b[0m \u001b[0;32mis\u001b[0m \u001b[0;32mnot\u001b[0m \u001b[0;32mNone\u001b[0m\u001b[0;34m:\u001b[0m\u001b[0;34m\u001b[0m\u001b[0;34m\u001b[0m\u001b[0m\n\u001b[1;32m    857\u001b[0m       \u001b[0;31m# Release the lock early so that multiple threads can perform the call\u001b[0m\u001b[0;34m\u001b[0m\u001b[0;34m\u001b[0m\u001b[0;34m\u001b[0m\u001b[0m\n",
            "\u001b[0;32m/usr/local/lib/python3.7/dist-packages/tensorflow/python/eager/function.py\u001b[0m in \u001b[0;36m__call__\u001b[0;34m(self, *args, **kwargs)\u001b[0m\n\u001b[1;32m   2941\u001b[0m        filtered_flat_args) = self._maybe_define_function(args, kwargs)\n\u001b[1;32m   2942\u001b[0m     return graph_function._call_flat(\n\u001b[0;32m-> 2943\u001b[0;31m         filtered_flat_args, captured_inputs=graph_function.captured_inputs)  # pylint: disable=protected-access\n\u001b[0m\u001b[1;32m   2944\u001b[0m \u001b[0;34m\u001b[0m\u001b[0m\n\u001b[1;32m   2945\u001b[0m   \u001b[0;34m@\u001b[0m\u001b[0mproperty\u001b[0m\u001b[0;34m\u001b[0m\u001b[0;34m\u001b[0m\u001b[0m\n",
            "\u001b[0;32m/usr/local/lib/python3.7/dist-packages/tensorflow/python/eager/function.py\u001b[0m in \u001b[0;36m_call_flat\u001b[0;34m(self, args, captured_inputs, cancellation_manager)\u001b[0m\n\u001b[1;32m   1917\u001b[0m       \u001b[0;31m# No tape is watching; skip to running the function.\u001b[0m\u001b[0;34m\u001b[0m\u001b[0;34m\u001b[0m\u001b[0;34m\u001b[0m\u001b[0m\n\u001b[1;32m   1918\u001b[0m       return self._build_call_outputs(self._inference_function.call(\n\u001b[0;32m-> 1919\u001b[0;31m           ctx, args, cancellation_manager=cancellation_manager))\n\u001b[0m\u001b[1;32m   1920\u001b[0m     forward_backward = self._select_forward_and_backward_functions(\n\u001b[1;32m   1921\u001b[0m         \u001b[0margs\u001b[0m\u001b[0;34m,\u001b[0m\u001b[0;34m\u001b[0m\u001b[0;34m\u001b[0m\u001b[0m\n",
            "\u001b[0;32m/usr/local/lib/python3.7/dist-packages/tensorflow/python/eager/function.py\u001b[0m in \u001b[0;36mcall\u001b[0;34m(self, ctx, args, cancellation_manager)\u001b[0m\n\u001b[1;32m    558\u001b[0m               \u001b[0minputs\u001b[0m\u001b[0;34m=\u001b[0m\u001b[0margs\u001b[0m\u001b[0;34m,\u001b[0m\u001b[0;34m\u001b[0m\u001b[0;34m\u001b[0m\u001b[0m\n\u001b[1;32m    559\u001b[0m               \u001b[0mattrs\u001b[0m\u001b[0;34m=\u001b[0m\u001b[0mattrs\u001b[0m\u001b[0;34m,\u001b[0m\u001b[0;34m\u001b[0m\u001b[0;34m\u001b[0m\u001b[0m\n\u001b[0;32m--> 560\u001b[0;31m               ctx=ctx)\n\u001b[0m\u001b[1;32m    561\u001b[0m         \u001b[0;32melse\u001b[0m\u001b[0;34m:\u001b[0m\u001b[0;34m\u001b[0m\u001b[0;34m\u001b[0m\u001b[0m\n\u001b[1;32m    562\u001b[0m           outputs = execute.execute_with_cancellation(\n",
            "\u001b[0;32m/usr/local/lib/python3.7/dist-packages/tensorflow/python/eager/execute.py\u001b[0m in \u001b[0;36mquick_execute\u001b[0;34m(op_name, num_outputs, inputs, attrs, ctx, name)\u001b[0m\n\u001b[1;32m     58\u001b[0m     \u001b[0mctx\u001b[0m\u001b[0;34m.\u001b[0m\u001b[0mensure_initialized\u001b[0m\u001b[0;34m(\u001b[0m\u001b[0;34m)\u001b[0m\u001b[0;34m\u001b[0m\u001b[0;34m\u001b[0m\u001b[0m\n\u001b[1;32m     59\u001b[0m     tensors = pywrap_tfe.TFE_Py_Execute(ctx._handle, device_name, op_name,\n\u001b[0;32m---> 60\u001b[0;31m                                         inputs, attrs, num_outputs)\n\u001b[0m\u001b[1;32m     61\u001b[0m   \u001b[0;32mexcept\u001b[0m \u001b[0mcore\u001b[0m\u001b[0;34m.\u001b[0m\u001b[0m_NotOkStatusException\u001b[0m \u001b[0;32mas\u001b[0m \u001b[0me\u001b[0m\u001b[0;34m:\u001b[0m\u001b[0;34m\u001b[0m\u001b[0;34m\u001b[0m\u001b[0m\n\u001b[1;32m     62\u001b[0m     \u001b[0;32mif\u001b[0m \u001b[0mname\u001b[0m \u001b[0;32mis\u001b[0m \u001b[0;32mnot\u001b[0m \u001b[0;32mNone\u001b[0m\u001b[0;34m:\u001b[0m\u001b[0;34m\u001b[0m\u001b[0;34m\u001b[0m\u001b[0m\n",
            "\u001b[0;31mKeyboardInterrupt\u001b[0m: "
          ]
        }
      ]
    },
    {
      "cell_type": "code",
      "metadata": {
        "colab": {
          "base_uri": "https://localhost:8080/",
          "height": 295
        },
        "id": "VtPPlJiyjCXY",
        "outputId": "5b427f92-08e2-41ba-976a-f9afaa5897ea"
      },
      "source": [
        "mse = history.history['mse']\n",
        "training_loss = history.history['loss']\n",
        "val_loss = history.history['val_loss']\n",
        "\n",
        "\n",
        "epochs = range(1, len(mse) + 1)\n",
        "\n",
        "plt.plot(epochs, training_loss, 'bo', label='Training loss')\n",
        "\n",
        "plt.plot(epochs, val_loss, 'b', label='Validation loss')\n",
        "plt.title('Training and validation loss')\n",
        "plt.xlabel('Epochs')\n",
        "plt.ylabel('Loss')\n",
        "plt.legend()\n",
        "\n",
        "plt.show()"
      ],
      "execution_count": null,
      "outputs": [
        {
          "output_type": "display_data",
          "data": {
            "image/png": "[encoded data removed]",
            "text/plain": [
              "<Figure size 432x288 with 1 Axes>"
            ]
          },
          "metadata": {
            "tags": [],
            "needs_background": "light"
          }
        }
      ]
    },
    {
      "cell_type": "code",
      "metadata": {
        "id": "VC9VVmhqjE3U"
      },
      "source": [
        "'''아직도 validation mse가 너무 높다,,, 다른 조합으로 시도'''"
      ],
      "execution_count": null,
      "outputs": []
    }
  ]
}